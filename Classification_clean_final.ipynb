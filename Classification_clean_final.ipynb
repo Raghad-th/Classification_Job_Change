{
 "cells": [
  {
   "cell_type": "markdown",
   "id": "28090560",
   "metadata": {},
   "source": [
    "\n",
    "# Classification Project: Predicting Data Scientist Job Change \n",
    "\n",
    "### By Raghad Althunayyan & Shatha Almoteb \n",
    "\n",
    "## Table of Contents\n",
    "<ul>\n",
    "<li><a href=\"#intro\">Introduction</a></li>\n",
    "<li><a href=\"#wrangling\">Data Wrangling</a></li>\n",
    "<li><a href=\"#eda\">Exploratory Data Analysis</a></li>\n",
    "<li><a href=\"#fe\">Feature Engineering</a></li>    \n",
    "<li><a href=\"#model\">Modeling</a></li> \n",
    "<li><a href=\"#conclusions\">Conclusions</a></li>\n",
    "</ul>"
   ]
  },
  {
   "cell_type": "markdown",
   "id": "8ea28a30",
   "metadata": {},
   "source": [
    "<a id='intro'></a>\n",
    "## Introduction\n",
    "\n",
    "\n",
    "> A company who provided Data Science training is in need of Data Scientist for their own company. However, they faced difficulties in hiring process. After processing some Candidates, Candidates tend to bail out in end of recruitment process. This situation made HR team to start over again to find the suitable candidate.\n",
    "\n",
    ">As the end of the year, HR department decided to make new enhancement in the process of recruitment from candidates who sign up their training. The ais for this enhancement is Company will easily known which of these candidates are really wants to work for the company after training or looking for a new employment because it helps to reduce the cost and time as well as the quality of training or planning the courses and categorization of candidates. Information related to demographics, education, experience are in hands from candidates signup and enrollment.\n",
    "\n",
    ">The datasets that will be used in this project is a public source from Kaggle."
   ]
  },
  {
   "cell_type": "code",
   "execution_count": 1,
   "id": "9aad1df2",
   "metadata": {},
   "outputs": [],
   "source": [
    "# import statements for all of the packages that I plan to use.\n",
    "import pandas as pd \n",
    "import numpy as np\n",
    "import seaborn as sn\n",
    "from matplotlib import pyplot as plt\n",
    "import matplotlib\n",
    "import matplotlib.pyplot as plt\n",
    "\n",
    "from sklearn.model_selection import GridSearchCV\n",
    "from sklearn import svm\n",
    "from sklearn.linear_model import LogisticRegression\n",
    "from sklearn.linear_model import ElasticNet\n",
    "from sklearn.ensemble import RandomForestRegressor\n",
    "from sklearn.ensemble import ExtraTreesRegressor\n",
    "from sklearn.tree import DecisionTreeClassifier\n",
    "from sklearn.ensemble import RandomForestClassifier\n",
    "from sklearn.ensemble import RandomForestClassifier,ExtraTreesClassifier\n",
    "from sklearn.metrics import plot_confusion_matrix\n",
    "\n",
    "from sklearn.model_selection import train_test_split\n",
    "from sklearn.svm import SVC\n",
    "from sklearn.neighbors import KNeighborsClassifier\n",
    "from sklearn.model_selection import cross_val_score\n",
    "from sklearn.metrics import confusion_matrix,accuracy_score,classification_report,recall_score\n",
    "from sklearn.metrics import roc_auc_score\n",
    "from sklearn.metrics import f1_score\n",
    "import seaborn as sns"
   ]
  },
  {
   "cell_type": "markdown",
   "id": "47d16c90",
   "metadata": {},
   "source": [
    "<a id='wrangling'></a>\n",
    "# Data Wrangling\n",
    "\n",
    ">  In this section of the report, I will load in the data, check for cleanliness, and then trim and clean our dataset for analysis. I will document my steps carefully and justify cleaning decisions.\n",
    "\n",
    "<li><a href=\"#Gathering\">Data Gathering</a></li>\n",
    "<li><a href=\"#Assesment\">Data Assesment</a></li>\n",
    "<li><a href=\"#Assesment Report\">Assesment Report</a></li>\n",
    "<li><a href=\"#Cleaning\">Data Cleaning</a></li>"
   ]
  },
  {
   "cell_type": "markdown",
   "id": "b8fb9588",
   "metadata": {},
   "source": [
    "<a id='Gathering'></a>\n",
    "### Data Gathering"
   ]
  },
  {
   "cell_type": "code",
   "execution_count": 2,
   "id": "8d3a4ea1",
   "metadata": {
    "scrolled": true
   },
   "outputs": [
    {
     "data": {
      "text/html": [
       "<div>\n",
       "<style scoped>\n",
       "    .dataframe tbody tr th:only-of-type {\n",
       "        vertical-align: middle;\n",
       "    }\n",
       "\n",
       "    .dataframe tbody tr th {\n",
       "        vertical-align: top;\n",
       "    }\n",
       "\n",
       "    .dataframe thead th {\n",
       "        text-align: right;\n",
       "    }\n",
       "</style>\n",
       "<table border=\"1\" class=\"dataframe\">\n",
       "  <thead>\n",
       "    <tr style=\"text-align: right;\">\n",
       "      <th></th>\n",
       "      <th>enrollee_id</th>\n",
       "      <th>city</th>\n",
       "      <th>city_development_index</th>\n",
       "      <th>gender</th>\n",
       "      <th>relevent_experience</th>\n",
       "      <th>enrolled_university</th>\n",
       "      <th>education_level</th>\n",
       "      <th>major_discipline</th>\n",
       "      <th>experience</th>\n",
       "      <th>company_size</th>\n",
       "      <th>company_type</th>\n",
       "      <th>last_new_job</th>\n",
       "      <th>training_hours</th>\n",
       "      <th>target</th>\n",
       "    </tr>\n",
       "  </thead>\n",
       "  <tbody>\n",
       "    <tr>\n",
       "      <th>0</th>\n",
       "      <td>8949</td>\n",
       "      <td>city_103</td>\n",
       "      <td>0.920</td>\n",
       "      <td>Male</td>\n",
       "      <td>Has relevent experience</td>\n",
       "      <td>no_enrollment</td>\n",
       "      <td>Graduate</td>\n",
       "      <td>STEM</td>\n",
       "      <td>&gt;20</td>\n",
       "      <td>NaN</td>\n",
       "      <td>NaN</td>\n",
       "      <td>1</td>\n",
       "      <td>36</td>\n",
       "      <td>1.0</td>\n",
       "    </tr>\n",
       "    <tr>\n",
       "      <th>1</th>\n",
       "      <td>29725</td>\n",
       "      <td>city_40</td>\n",
       "      <td>0.776</td>\n",
       "      <td>Male</td>\n",
       "      <td>No relevent experience</td>\n",
       "      <td>no_enrollment</td>\n",
       "      <td>Graduate</td>\n",
       "      <td>STEM</td>\n",
       "      <td>15</td>\n",
       "      <td>50-99</td>\n",
       "      <td>Pvt Ltd</td>\n",
       "      <td>&gt;4</td>\n",
       "      <td>47</td>\n",
       "      <td>0.0</td>\n",
       "    </tr>\n",
       "    <tr>\n",
       "      <th>2</th>\n",
       "      <td>11561</td>\n",
       "      <td>city_21</td>\n",
       "      <td>0.624</td>\n",
       "      <td>NaN</td>\n",
       "      <td>No relevent experience</td>\n",
       "      <td>Full time course</td>\n",
       "      <td>Graduate</td>\n",
       "      <td>STEM</td>\n",
       "      <td>5</td>\n",
       "      <td>NaN</td>\n",
       "      <td>NaN</td>\n",
       "      <td>never</td>\n",
       "      <td>83</td>\n",
       "      <td>0.0</td>\n",
       "    </tr>\n",
       "    <tr>\n",
       "      <th>3</th>\n",
       "      <td>33241</td>\n",
       "      <td>city_115</td>\n",
       "      <td>0.789</td>\n",
       "      <td>NaN</td>\n",
       "      <td>No relevent experience</td>\n",
       "      <td>NaN</td>\n",
       "      <td>Graduate</td>\n",
       "      <td>Business Degree</td>\n",
       "      <td>&lt;1</td>\n",
       "      <td>NaN</td>\n",
       "      <td>Pvt Ltd</td>\n",
       "      <td>never</td>\n",
       "      <td>52</td>\n",
       "      <td>1.0</td>\n",
       "    </tr>\n",
       "    <tr>\n",
       "      <th>4</th>\n",
       "      <td>666</td>\n",
       "      <td>city_162</td>\n",
       "      <td>0.767</td>\n",
       "      <td>Male</td>\n",
       "      <td>Has relevent experience</td>\n",
       "      <td>no_enrollment</td>\n",
       "      <td>Masters</td>\n",
       "      <td>STEM</td>\n",
       "      <td>&gt;20</td>\n",
       "      <td>50-99</td>\n",
       "      <td>Funded Startup</td>\n",
       "      <td>4</td>\n",
       "      <td>8</td>\n",
       "      <td>0.0</td>\n",
       "    </tr>\n",
       "  </tbody>\n",
       "</table>\n",
       "</div>"
      ],
      "text/plain": [
       "   enrollee_id      city  city_development_index gender  \\\n",
       "0         8949  city_103                   0.920   Male   \n",
       "1        29725   city_40                   0.776   Male   \n",
       "2        11561   city_21                   0.624    NaN   \n",
       "3        33241  city_115                   0.789    NaN   \n",
       "4          666  city_162                   0.767   Male   \n",
       "\n",
       "       relevent_experience enrolled_university education_level  \\\n",
       "0  Has relevent experience       no_enrollment        Graduate   \n",
       "1   No relevent experience       no_enrollment        Graduate   \n",
       "2   No relevent experience    Full time course        Graduate   \n",
       "3   No relevent experience                 NaN        Graduate   \n",
       "4  Has relevent experience       no_enrollment         Masters   \n",
       "\n",
       "  major_discipline experience company_size    company_type last_new_job  \\\n",
       "0             STEM        >20          NaN             NaN            1   \n",
       "1             STEM         15        50-99         Pvt Ltd           >4   \n",
       "2             STEM          5          NaN             NaN        never   \n",
       "3  Business Degree         <1          NaN         Pvt Ltd        never   \n",
       "4             STEM        >20        50-99  Funded Startup            4   \n",
       "\n",
       "   training_hours  target  \n",
       "0              36     1.0  \n",
       "1              47     0.0  \n",
       "2              83     0.0  \n",
       "3              52     1.0  \n",
       "4               8     0.0  "
      ]
     },
     "execution_count": 2,
     "metadata": {},
     "output_type": "execute_result"
    }
   ],
   "source": [
    "df= pd.read_csv(\"aug_train.csv\",  error_bad_lines=False)\n",
    "df.head(5)"
   ]
  },
  {
   "cell_type": "markdown",
   "id": "fe0096a6",
   "metadata": {},
   "source": [
    "<a id='Assesment'></a>\n",
    "### Data Assesment\n",
    "- Perform operations to inspect data types\n",
    "- Look for instances of missing or possibly errant data."
   ]
  },
  {
   "cell_type": "code",
   "execution_count": 3,
   "id": "22133298",
   "metadata": {},
   "outputs": [],
   "source": [
    "df2 = df.copy()"
   ]
  },
  {
   "cell_type": "code",
   "execution_count": 4,
   "id": "2ab64e2c",
   "metadata": {},
   "outputs": [
    {
     "data": {
      "text/plain": [
       "(19158, 14)"
      ]
     },
     "execution_count": 4,
     "metadata": {},
     "output_type": "execute_result"
    }
   ],
   "source": [
    "# inspect dataset shape.\n",
    "df2.shape"
   ]
  },
  {
   "cell_type": "code",
   "execution_count": 5,
   "id": "796484c9",
   "metadata": {},
   "outputs": [
    {
     "data": {
      "text/plain": [
       "enrollee_id                 int64\n",
       "city                       object\n",
       "city_development_index    float64\n",
       "gender                     object\n",
       "relevent_experience        object\n",
       "enrolled_university        object\n",
       "education_level            object\n",
       "major_discipline           object\n",
       "experience                 object\n",
       "company_size               object\n",
       "company_type               object\n",
       "last_new_job               object\n",
       "training_hours              int64\n",
       "target                    float64\n",
       "dtype: object"
      ]
     },
     "execution_count": 5,
     "metadata": {},
     "output_type": "execute_result"
    }
   ],
   "source": [
    "# inspect data type for each column.\n",
    "df2.dtypes\n"
   ]
  },
  {
   "cell_type": "code",
   "execution_count": 6,
   "id": "eb82c32f",
   "metadata": {
    "scrolled": false
   },
   "outputs": [
    {
     "data": {
      "text/plain": [
       "enrollee_id                  0\n",
       "city                         0\n",
       "city_development_index       0\n",
       "gender                    4508\n",
       "relevent_experience          0\n",
       "enrolled_university        386\n",
       "education_level            460\n",
       "major_discipline          2813\n",
       "experience                  65\n",
       "company_size              5938\n",
       "company_type              6140\n",
       "last_new_job               423\n",
       "training_hours               0\n",
       "target                       0\n",
       "dtype: int64"
      ]
     },
     "execution_count": 6,
     "metadata": {},
     "output_type": "execute_result"
    }
   ],
   "source": [
    "# inspect data set for missing values\n",
    "df2.isna().sum() "
   ]
  },
  {
   "cell_type": "markdown",
   "id": "a2aec2cd",
   "metadata": {},
   "source": [
    "## Data Cleaning & EDA"
   ]
  },
  {
   "cell_type": "code",
   "execution_count": 7,
   "id": "a7c3fb82",
   "metadata": {
    "scrolled": false
   },
   "outputs": [
    {
     "data": {
      "image/png": "[encoded data removed]",
      "text/plain": [
       "<Figure size 648x432 with 1 Axes>"
      ]
     },
     "metadata": {
      "needs_background": "light"
     },
     "output_type": "display_data"
    }
   ],
   "source": [
    "#Visulaization of missing values\n",
    "fig, ax = plt.subplots(figsize=(9,6))\n",
    "sn.heatmap(df2.isnull(), cbar=False, cmap=\"YlGnBu_r\")\n",
    "plt.show()"
   ]
  },
  {
   "cell_type": "markdown",
   "id": "0bdb780b",
   "metadata": {},
   "source": [
    "<a id='Assesment Report'></a>\n",
    "### Final Assesment Report\n",
    "\n",
    "- Columns 'position_id'and 'city' has no valuable data(less important).\n",
    "\n",
    "- Column experience and last_new_job are object type and has errant data.\n",
    "\n",
    "- Converting some columns to float/integer by cleaning them.\n",
    "\n",
    "- Most of columns have nan values."
   ]
  },
  {
   "cell_type": "markdown",
   "id": "a6b8a0d1",
   "metadata": {},
   "source": [
    "<a id='eda'></a>\n",
    "## Exploratory Data Analysis\n",
    "\n",
    ">  Now we are ready to move on to exploration. Compute statistics and create visualizations with the goal of addressing.\n"
   ]
  },
  {
   "cell_type": "code",
   "execution_count": 8,
   "id": "9973e07f",
   "metadata": {},
   "outputs": [
    {
     "data": {
      "text/plain": [
       "<AxesSubplot:xlabel='city_development_index', ylabel='Density'>"
      ]
     },
     "execution_count": 8,
     "metadata": {},
     "output_type": "execute_result"
    },
    {
     "data": {
      "image/png": "[encoded data removed]",
      "text/plain": [
       "<Figure size 864x360 with 1 Axes>"
      ]
     },
     "metadata": {
      "needs_background": "light"
     },
     "output_type": "display_data"
    }
   ],
   "source": [
    "plt.figure(figsize=(12, 5))\n",
    "sns.kdeplot(data=df2, x=\"city_development_index\", hue=\"target\",cut = 0,palette='Set1')"
   ]
  },
  {
   "cell_type": "code",
   "execution_count": 9,
   "id": "97e7bf7b",
   "metadata": {},
   "outputs": [
    {
     "data": {
      "text/plain": [
       "<AxesSubplot:xlabel='gender', ylabel='count'>"
      ]
     },
     "execution_count": 9,
     "metadata": {},
     "output_type": "execute_result"
    },
    {
     "data": {
      "image/png": "[encoded data removed]",
      "text/plain": [
       "<Figure size 576x360 with 1 Axes>"
      ]
     },
     "metadata": {
      "needs_background": "light"
     },
     "output_type": "display_data"
    }
   ],
   "source": [
    "plt.figure(figsize=(8, 5))\n",
    "sns.set_style('whitegrid')\n",
    "sns.countplot(x = 'gender',hue='target',data=df2,palette='Set1')"
   ]
  },
  {
   "cell_type": "code",
   "execution_count": 10,
   "id": "7ee3eb46",
   "metadata": {},
   "outputs": [
    {
     "data": {
      "text/plain": [
       "<AxesSubplot:xlabel='relevent_experience', ylabel='count'>"
      ]
     },
     "execution_count": 10,
     "metadata": {},
     "output_type": "execute_result"
    },
    {
     "data": {
      "image/png": "[encoded data removed]",
      "text/plain": [
       "<Figure size 576x360 with 1 Axes>"
      ]
     },
     "metadata": {},
     "output_type": "display_data"
    }
   ],
   "source": [
    "plt.figure(figsize=(8, 5))\n",
    "sns.set_style('whitegrid')\n",
    "sns.countplot(x = 'relevent_experience',hue='target',data=df2,palette='Set1')"
   ]
  },
  {
   "cell_type": "code",
   "execution_count": 11,
   "id": "ee88c142",
   "metadata": {},
   "outputs": [
    {
     "data": {
      "text/plain": [
       "<AxesSubplot:xlabel='enrolled_university', ylabel='count'>"
      ]
     },
     "execution_count": 11,
     "metadata": {},
     "output_type": "execute_result"
    },
    {
     "data": {
      "image/png": "[encoded data removed]",
      "text/plain": [
       "<Figure size 576x360 with 1 Axes>"
      ]
     },
     "metadata": {},
     "output_type": "display_data"
    }
   ],
   "source": [
    "plt.figure(figsize=(8, 5))\n",
    "sns.set_style('whitegrid')\n",
    "sns.countplot(x = 'enrolled_university',hue='target',data=df2,palette='Set1')"
   ]
  },
  {
   "cell_type": "code",
   "execution_count": 12,
   "id": "26bb3f10",
   "metadata": {},
   "outputs": [
    {
     "data": {
      "text/plain": [
       "<AxesSubplot:xlabel='education_level', ylabel='count'>"
      ]
     },
     "execution_count": 12,
     "metadata": {},
     "output_type": "execute_result"
    },
    {
     "data": {
      "image/png": "[encoded data removed]",
      "text/plain": [
       "<Figure size 576x360 with 1 Axes>"
      ]
     },
     "metadata": {},
     "output_type": "display_data"
    }
   ],
   "source": [
    "plt.figure(figsize=(8, 5))\n",
    "sns.set_style('whitegrid')\n",
    "sns.countplot(x = 'education_level',hue='target',data=df2,palette='Set1')"
   ]
  },
  {
   "cell_type": "code",
   "execution_count": 13,
   "id": "d57d1bd5",
   "metadata": {},
   "outputs": [
    {
     "data": {
      "text/plain": [
       "<AxesSubplot:xlabel='major_discipline', ylabel='count'>"
      ]
     },
     "execution_count": 13,
     "metadata": {},
     "output_type": "execute_result"
    },
    {
     "data": {
      "image/png": "[encoded data removed]",
      "text/plain": [
       "<Figure size 576x360 with 1 Axes>"
      ]
     },
     "metadata": {},
     "output_type": "display_data"
    }
   ],
   "source": [
    "plt.figure(figsize=(8, 5))\n",
    "sns.set_style('whitegrid')\n",
    "sns.countplot(x = 'major_discipline',hue='target',data=df2,palette='Set1')\n"
   ]
  },
  {
   "cell_type": "code",
   "execution_count": 14,
   "id": "afa4ba9e",
   "metadata": {},
   "outputs": [
    {
     "data": {
      "text/plain": [
       "<AxesSubplot:xlabel='training_hours', ylabel='Density'>"
      ]
     },
     "execution_count": 14,
     "metadata": {},
     "output_type": "execute_result"
    },
    {
     "data": {
      "image/png": "[encoded data removed]",
      "text/plain": [
       "<Figure size 864x360 with 1 Axes>"
      ]
     },
     "metadata": {},
     "output_type": "display_data"
    }
   ],
   "source": [
    "plt.figure(figsize=(12, 5))\n",
    "sns.kdeplot(data=df2, x=\"training_hours\", hue=\"relevent_experience\",cut = 0,palette='Set1')"
   ]
  },
  {
   "cell_type": "code",
   "execution_count": 15,
   "id": "cc4714dd",
   "metadata": {},
   "outputs": [
    {
     "data": {
      "text/plain": [
       "<AxesSubplot:xlabel='training_hours', ylabel='Density'>"
      ]
     },
     "execution_count": 15,
     "metadata": {},
     "output_type": "execute_result"
    },
    {
     "data": {
      "image/png": "[encoded data removed]",
      "text/plain": [
       "<Figure size 864x360 with 1 Axes>"
      ]
     },
     "metadata": {},
     "output_type": "display_data"
    }
   ],
   "source": [
    "plt.figure(figsize=(12, 5))\n",
    "sns.set_style('whitegrid')\n",
    "sns.kdeplot(data=df2, x=\"training_hours\", hue=\"target\",cut = 0,palette='Set1')"
   ]
  },
  {
   "cell_type": "markdown",
   "id": "9bb9d5e3",
   "metadata": {},
   "source": [
    "<a id=\"Cleaning\"></a>\n",
    "## Data Cleaning\n",
    "\n",
    "<ul>\n",
    "<li>Check null.</li>\n",
    "<li>Deal with outlire.</li>\n",
    "<li>Remove Unnecessary columns.</li>\n",
    "<li>Drop duplicates.</li>\n",
    "</ul>"
   ]
  },
  {
   "cell_type": "code",
   "execution_count": 16,
   "id": "8b062b08",
   "metadata": {},
   "outputs": [
    {
     "data": {
      "text/plain": [
       "0.0    0.750652\n",
       "1.0    0.249348\n",
       "Name: target, dtype: float64"
      ]
     },
     "execution_count": 16,
     "metadata": {},
     "output_type": "execute_result"
    }
   ],
   "source": [
    "df2.target.value_counts()/len(df2)"
   ]
  },
  {
   "cell_type": "code",
   "execution_count": 17,
   "id": "2e273fba",
   "metadata": {
    "scrolled": false
   },
   "outputs": [
    {
     "data": {
      "text/plain": [
       "0     8949\n",
       "1    29725\n",
       "2    11561\n",
       "3    33241\n",
       "4      666\n",
       "Name: enrollee_id, dtype: int64"
      ]
     },
     "execution_count": 17,
     "metadata": {},
     "output_type": "execute_result"
    }
   ],
   "source": [
    "df2['enrollee_id'].head()"
   ]
  },
  {
   "cell_type": "markdown",
   "id": "9a2489e2",
   "metadata": {},
   "source": [
    "### Drob column"
   ]
  },
  {
   "cell_type": "code",
   "execution_count": 18,
   "id": "ce1fdc04",
   "metadata": {},
   "outputs": [],
   "source": [
    "#drop column\n",
    "df2.drop(['enrollee_id' ,'city'] , axis=1, errors=\"ignore\" , inplace = True)"
   ]
  },
  {
   "cell_type": "markdown",
   "id": "3938216f",
   "metadata": {},
   "source": [
    "### Checking duplicates "
   ]
  },
  {
   "cell_type": "code",
   "execution_count": 19,
   "id": "c5f1759a",
   "metadata": {
    "scrolled": false
   },
   "outputs": [
    {
     "data": {
      "text/plain": [
       "60"
      ]
     },
     "execution_count": 19,
     "metadata": {},
     "output_type": "execute_result"
    }
   ],
   "source": [
    "## Checking duplicates rows \n",
    "len(df2)-len(df2.drop_duplicates())"
   ]
  },
  {
   "cell_type": "code",
   "execution_count": 20,
   "id": "1d0eeaeb",
   "metadata": {},
   "outputs": [
    {
     "name": "stdout",
     "output_type": "stream",
     "text": [
      "<class 'pandas.core.frame.DataFrame'>\n",
      "Int64Index: 19098 entries, 0 to 19157\n",
      "Data columns (total 12 columns):\n",
      " #   Column                  Non-Null Count  Dtype  \n",
      "---  ------                  --------------  -----  \n",
      " 0   city_development_index  19098 non-null  float64\n",
      " 1   gender                  14590 non-null  object \n",
      " 2   relevent_experience     19098 non-null  object \n",
      " 3   enrolled_university     18712 non-null  object \n",
      " 4   education_level         18638 non-null  object \n",
      " 5   major_discipline        16289 non-null  object \n",
      " 6   experience              19033 non-null  object \n",
      " 7   company_size            13184 non-null  object \n",
      " 8   company_type            12982 non-null  object \n",
      " 9   last_new_job            18675 non-null  object \n",
      " 10  training_hours          19098 non-null  int64  \n",
      " 11  target                  19098 non-null  float64\n",
      "dtypes: float64(2), int64(1), object(9)\n",
      "memory usage: 1.9+ MB\n"
     ]
    }
   ],
   "source": [
    "#Checking duplicates rows and drop.\n",
    "df2.drop_duplicates(keep=\"first\", inplace=True)\n",
    "df2.info()"
   ]
  },
  {
   "cell_type": "markdown",
   "id": "4b57d03c",
   "metadata": {},
   "source": [
    "### Gender Column"
   ]
  },
  {
   "cell_type": "code",
   "execution_count": 21,
   "id": "83f0b040",
   "metadata": {
    "scrolled": true
   },
   "outputs": [
    {
     "data": {
      "text/plain": [
       "Male      13162\n",
       "Female     1237\n",
       "Other       191\n",
       "Name: gender, dtype: int64"
      ]
     },
     "execution_count": 21,
     "metadata": {},
     "output_type": "execute_result"
    }
   ],
   "source": [
    "df2.gender.value_counts()"
   ]
  },
  {
   "cell_type": "code",
   "execution_count": 22,
   "id": "76260f7e",
   "metadata": {},
   "outputs": [
    {
     "data": {
      "text/plain": [
       "4508"
      ]
     },
     "execution_count": 22,
     "metadata": {},
     "output_type": "execute_result"
    }
   ],
   "source": [
    "df2['gender'].isnull().sum()"
   ]
  },
  {
   "cell_type": "code",
   "execution_count": 23,
   "id": "f243e9d5",
   "metadata": {},
   "outputs": [
    {
     "data": {
      "text/plain": [
       "0"
      ]
     },
     "execution_count": 23,
     "metadata": {},
     "output_type": "execute_result"
    }
   ],
   "source": [
    "df2['gender'] = df2['gender'].fillna('Male')\n",
    "df2['gender'].isnull().sum()"
   ]
  },
  {
   "cell_type": "markdown",
   "id": "821a6127",
   "metadata": {},
   "source": [
    "### relevent xperience Column"
   ]
  },
  {
   "cell_type": "code",
   "execution_count": 24,
   "id": "c417b0c6",
   "metadata": {
    "scrolled": false
   },
   "outputs": [
    {
     "data": {
      "text/plain": [
       "Has relevent experience    13739\n",
       "No relevent experience      5359\n",
       "Name: relevent_experience, dtype: int64"
      ]
     },
     "execution_count": 24,
     "metadata": {},
     "output_type": "execute_result"
    }
   ],
   "source": [
    "df2['relevent_experience'].value_counts()\n"
   ]
  },
  {
   "cell_type": "code",
   "execution_count": 25,
   "id": "91d9b558",
   "metadata": {},
   "outputs": [
    {
     "data": {
      "text/plain": [
       "0"
      ]
     },
     "execution_count": 25,
     "metadata": {},
     "output_type": "execute_result"
    }
   ],
   "source": [
    "df2['relevent_experience'].isnull().sum()"
   ]
  },
  {
   "cell_type": "markdown",
   "id": "03b4e987",
   "metadata": {},
   "source": [
    "### enrolled university Column"
   ]
  },
  {
   "cell_type": "code",
   "execution_count": 26,
   "id": "d1f1e45b",
   "metadata": {},
   "outputs": [
    {
     "data": {
      "text/plain": [
       "no_enrollment       13762\n",
       "Full time course     3752\n",
       "Part time course     1198\n",
       "Name: enrolled_university, dtype: int64"
      ]
     },
     "execution_count": 26,
     "metadata": {},
     "output_type": "execute_result"
    }
   ],
   "source": [
    "df2['enrolled_university'].value_counts()"
   ]
  },
  {
   "cell_type": "code",
   "execution_count": 27,
   "id": "0371b59c",
   "metadata": {},
   "outputs": [],
   "source": [
    "df2['enrolled_university'] = df2['enrolled_university'].fillna('no_enrollment')"
   ]
  },
  {
   "cell_type": "markdown",
   "id": "33ac03dc",
   "metadata": {},
   "source": [
    "### education level Column"
   ]
  },
  {
   "cell_type": "code",
   "execution_count": 28,
   "id": "cc20ad3f",
   "metadata": {},
   "outputs": [
    {
     "data": {
      "text/plain": [
       "Graduate          11545\n",
       "Masters            4358\n",
       "High School        2013\n",
       "Phd                 414\n",
       "Primary School      308\n",
       "Name: education_level, dtype: int64"
      ]
     },
     "execution_count": 28,
     "metadata": {},
     "output_type": "execute_result"
    }
   ],
   "source": [
    "df2['education_level'].value_counts()"
   ]
  },
  {
   "cell_type": "code",
   "execution_count": 29,
   "id": "726dc666",
   "metadata": {},
   "outputs": [
    {
     "data": {
      "text/plain": [
       "460"
      ]
     },
     "execution_count": 29,
     "metadata": {},
     "output_type": "execute_result"
    }
   ],
   "source": [
    "df2['education_level'].isnull().sum()"
   ]
  },
  {
   "cell_type": "code",
   "execution_count": 30,
   "id": "941fe866",
   "metadata": {},
   "outputs": [],
   "source": [
    "df2['education_level'] = df2['education_level'].fillna('Graduate')"
   ]
  },
  {
   "cell_type": "markdown",
   "id": "81fbd2da",
   "metadata": {},
   "source": [
    "### major discipline Column"
   ]
  },
  {
   "cell_type": "code",
   "execution_count": 31,
   "id": "41bbd759",
   "metadata": {},
   "outputs": [
    {
     "data": {
      "text/plain": [
       "STEM               14436\n",
       "Humanities           669\n",
       "Other                381\n",
       "Business Degree      327\n",
       "Arts                 253\n",
       "No Major             223\n",
       "Name: major_discipline, dtype: int64"
      ]
     },
     "execution_count": 31,
     "metadata": {},
     "output_type": "execute_result"
    }
   ],
   "source": [
    "df2['major_discipline'].value_counts()"
   ]
  },
  {
   "cell_type": "code",
   "execution_count": 32,
   "id": "f54127bd",
   "metadata": {
    "scrolled": false
   },
   "outputs": [
    {
     "data": {
      "text/plain": [
       "2809"
      ]
     },
     "execution_count": 32,
     "metadata": {},
     "output_type": "execute_result"
    }
   ],
   "source": [
    "df2['major_discipline'].isnull().sum()"
   ]
  },
  {
   "cell_type": "code",
   "execution_count": 33,
   "id": "d3fbe63d",
   "metadata": {},
   "outputs": [],
   "source": [
    "df2['major_discipline'] = df2['major_discipline'].fillna('STEM')"
   ]
  },
  {
   "cell_type": "markdown",
   "id": "9a573b11",
   "metadata": {},
   "source": [
    "### experience Column"
   ]
  },
  {
   "cell_type": "code",
   "execution_count": 34,
   "id": "16be11dc",
   "metadata": {
    "scrolled": false
   },
   "outputs": [
    {
     "data": {
      "text/plain": [
       ">20    3245\n",
       "5      1427\n",
       "4      1401\n",
       "3      1353\n",
       "6      1214\n",
       "2      1124\n",
       "7      1027\n",
       "10      985\n",
       "9       978\n",
       "8       802\n",
       "15      683\n",
       "11      664\n",
       "14      586\n",
       "1       549\n",
       "<1      521\n",
       "16      507\n",
       "12      494\n",
       "13      399\n",
       "17      342\n",
       "19      304\n",
       "18      280\n",
       "20      148\n",
       "Name: experience, dtype: int64"
      ]
     },
     "execution_count": 34,
     "metadata": {},
     "output_type": "execute_result"
    }
   ],
   "source": [
    "df2['experience'].value_counts()\n"
   ]
  },
  {
   "cell_type": "code",
   "execution_count": 35,
   "id": "40b8ce6d",
   "metadata": {},
   "outputs": [
    {
     "data": {
      "text/plain": [
       "0    >20\n",
       "dtype: object"
      ]
     },
     "execution_count": 35,
     "metadata": {},
     "output_type": "execute_result"
    }
   ],
   "source": [
    "df2['experience'].mode()"
   ]
  },
  {
   "cell_type": "code",
   "execution_count": 36,
   "id": "27e77214",
   "metadata": {},
   "outputs": [],
   "source": [
    "df2['experience'] = df2['experience'].fillna('>20')\n",
    " "
   ]
  },
  {
   "cell_type": "markdown",
   "id": "03aae3ed",
   "metadata": {},
   "source": [
    "### company size Column"
   ]
  },
  {
   "cell_type": "code",
   "execution_count": 37,
   "id": "486f595c",
   "metadata": {},
   "outputs": [
    {
     "data": {
      "text/plain": [
       "50-99        3077\n",
       "100-500      2559\n",
       "10000+       2009\n",
       "10/49        1470\n",
       "1000-4999    1322\n",
       "<10          1308\n",
       "500-999       877\n",
       "5000-9999     562\n",
       "Name: company_size, dtype: int64"
      ]
     },
     "execution_count": 37,
     "metadata": {},
     "output_type": "execute_result"
    }
   ],
   "source": [
    "df2['company_size'].value_counts()"
   ]
  },
  {
   "cell_type": "code",
   "execution_count": 38,
   "id": "3e576abb",
   "metadata": {},
   "outputs": [
    {
     "data": {
      "text/plain": [
       "5914"
      ]
     },
     "execution_count": 38,
     "metadata": {},
     "output_type": "execute_result"
    }
   ],
   "source": [
    "df2['company_size'].isnull().sum()"
   ]
  },
  {
   "cell_type": "code",
   "execution_count": 39,
   "id": "e4d49eb1",
   "metadata": {},
   "outputs": [
    {
     "data": {
      "text/plain": [
       "0    50-99\n",
       "dtype: object"
      ]
     },
     "execution_count": 39,
     "metadata": {},
     "output_type": "execute_result"
    }
   ],
   "source": [
    "df2['company_size'].mode()"
   ]
  },
  {
   "cell_type": "code",
   "execution_count": 40,
   "id": "dea78128",
   "metadata": {},
   "outputs": [],
   "source": [
    "df2['company_size'] = df2['company_size'].fillna('50-99')"
   ]
  },
  {
   "cell_type": "markdown",
   "id": "1e415a13",
   "metadata": {},
   "source": [
    "### company type Column"
   ]
  },
  {
   "cell_type": "code",
   "execution_count": 41,
   "id": "54923bf0",
   "metadata": {},
   "outputs": [
    {
     "data": {
      "text/plain": [
       "Pvt Ltd                9785\n",
       "Funded Startup          999\n",
       "Public Sector           953\n",
       "Early Stage Startup     603\n",
       "NGO                     521\n",
       "Other                   121\n",
       "Name: company_type, dtype: int64"
      ]
     },
     "execution_count": 41,
     "metadata": {},
     "output_type": "execute_result"
    }
   ],
   "source": [
    "df2['company_type'].value_counts()"
   ]
  },
  {
   "cell_type": "code",
   "execution_count": 42,
   "id": "60c81d5b",
   "metadata": {},
   "outputs": [
    {
     "data": {
      "text/plain": [
       "6116"
      ]
     },
     "execution_count": 42,
     "metadata": {},
     "output_type": "execute_result"
    }
   ],
   "source": [
    "df2['company_type'].isnull().sum()"
   ]
  },
  {
   "cell_type": "code",
   "execution_count": 43,
   "id": "4d738d70",
   "metadata": {},
   "outputs": [
    {
     "data": {
      "text/plain": [
       "0    Pvt Ltd\n",
       "dtype: object"
      ]
     },
     "execution_count": 43,
     "metadata": {},
     "output_type": "execute_result"
    }
   ],
   "source": [
    "df2['company_type'].mode()"
   ]
  },
  {
   "cell_type": "code",
   "execution_count": 44,
   "id": "e2e11920",
   "metadata": {},
   "outputs": [],
   "source": [
    "df2['company_type'] = df2['company_type'].fillna('Pvt Ltd')\n"
   ]
  },
  {
   "cell_type": "markdown",
   "id": "5eb64be9",
   "metadata": {},
   "source": [
    "### last_new_job Column"
   ]
  },
  {
   "cell_type": "code",
   "execution_count": 45,
   "id": "b2d139d1",
   "metadata": {
    "scrolled": true
   },
   "outputs": [
    {
     "data": {
      "text/plain": [
       "1        8021\n",
       ">4       3263\n",
       "2        2893\n",
       "never    2447\n",
       "4        1029\n",
       "3        1022\n",
       "Name: last_new_job, dtype: int64"
      ]
     },
     "execution_count": 45,
     "metadata": {},
     "output_type": "execute_result"
    }
   ],
   "source": [
    "df2['last_new_job'].value_counts()"
   ]
  },
  {
   "cell_type": "code",
   "execution_count": 46,
   "id": "8c3fbf1b",
   "metadata": {},
   "outputs": [
    {
     "data": {
      "text/plain": [
       "423"
      ]
     },
     "execution_count": 46,
     "metadata": {},
     "output_type": "execute_result"
    }
   ],
   "source": [
    "df2['last_new_job'].isnull().sum()"
   ]
  },
  {
   "cell_type": "code",
   "execution_count": 47,
   "id": "84eb0187",
   "metadata": {},
   "outputs": [
    {
     "data": {
      "text/plain": [
       "0    1\n",
       "dtype: object"
      ]
     },
     "execution_count": 47,
     "metadata": {},
     "output_type": "execute_result"
    }
   ],
   "source": [
    "df2['last_new_job'].mode()"
   ]
  },
  {
   "cell_type": "code",
   "execution_count": 48,
   "id": "d61fe1bf",
   "metadata": {},
   "outputs": [],
   "source": [
    "df2['last_new_job'] = df2['last_new_job'].fillna('1')"
   ]
  },
  {
   "cell_type": "markdown",
   "id": "f561ec74",
   "metadata": {},
   "source": [
    "### target Column"
   ]
  },
  {
   "cell_type": "code",
   "execution_count": 49,
   "id": "9f7f08b9",
   "metadata": {
    "scrolled": true
   },
   "outputs": [
    {
     "data": {
      "text/html": [
       "<div>\n",
       "<style scoped>\n",
       "    .dataframe tbody tr th:only-of-type {\n",
       "        vertical-align: middle;\n",
       "    }\n",
       "\n",
       "    .dataframe tbody tr th {\n",
       "        vertical-align: top;\n",
       "    }\n",
       "\n",
       "    .dataframe thead th {\n",
       "        text-align: right;\n",
       "    }\n",
       "</style>\n",
       "<table border=\"1\" class=\"dataframe\">\n",
       "  <thead>\n",
       "    <tr style=\"text-align: right;\">\n",
       "      <th></th>\n",
       "      <th>Count</th>\n",
       "    </tr>\n",
       "    <tr>\n",
       "      <th>target</th>\n",
       "      <th></th>\n",
       "    </tr>\n",
       "  </thead>\n",
       "  <tbody>\n",
       "    <tr>\n",
       "      <th>0</th>\n",
       "      <td>14337</td>\n",
       "    </tr>\n",
       "    <tr>\n",
       "      <th>1</th>\n",
       "      <td>4761</td>\n",
       "    </tr>\n",
       "  </tbody>\n",
       "</table>\n",
       "</div>"
      ],
      "text/plain": [
       "        Count\n",
       "target       \n",
       "0       14337\n",
       "1        4761"
      ]
     },
     "execution_count": 49,
     "metadata": {},
     "output_type": "execute_result"
    },
    {
     "data": {
      "image/png": "[encoded data removed]",
      "text/plain": [
       "<Figure size 432x288 with 1 Axes>"
      ]
     },
     "metadata": {},
     "output_type": "display_data"
    }
   ],
   "source": [
    "df2[\"target\"] = df2[\"target\"].astype(\"int\")\n",
    "my_colors = ['lightblue','lightsteelblue','silver']\n",
    "target = pd.DataFrame(df2[['target']].value_counts())\n",
    "target = target.reset_index().set_index('target')\n",
    "target.columns = ['Count']\n",
    "_ = target.plot.pie(y='Count',shadow = True, colors=my_colors , autopct='%1.1f%%')\n",
    "target"
   ]
  },
  {
   "cell_type": "code",
   "execution_count": 50,
   "id": "b13ec4f9",
   "metadata": {},
   "outputs": [],
   "source": [
    "\n",
    "df2[\"gender\"] = df2[\"gender\"].astype(\"str\")\n",
    "df2[\"experience\"] = df2[\"experience\"].astype(\"str\")\n",
    "df2[\"relevent_experience\"] = df2[\"relevent_experience\"].astype(\"str\")\n",
    "df2[\"enrolled_university\"] = df2[\"enrolled_university\"].astype(\"str\")\n",
    "df2[\"education_level\"] = df2[\"education_level\"].astype(\"str\")\n",
    "df2[\"major_discipline\"] = df2[\"major_discipline\"].astype(\"str\")\n",
    "\n",
    "df2[\"experience\"] = df2[\"experience\"].str.replace(\"<\" ,\"\")\n",
    "df2[\"experience\"] = df2[\"experience\"].str.replace(\">\", \"\")\n",
    "df2[\"experience\"] = df2[\"experience\"].astype(\"int\")\n",
    "\n",
    "\n",
    "df2[\"last_new_job\"] = df2[\"last_new_job\"].str.replace(\"<\" ,\"\")\n",
    "df2[\"last_new_job\"] = df2[\"last_new_job\"].str.replace(\">\", \"\")\n",
    "df2[\"last_new_job\"] = df2[\"last_new_job\"].str.replace(\"never\", \"0\")\n",
    "df2[\"last_new_job\"] = df2[\"last_new_job\"].astype(\"int\")\n",
    "\n"
   ]
  },
  {
   "cell_type": "markdown",
   "id": "fb9e5300",
   "metadata": {},
   "source": [
    "## Beasline for numeric variables (before feature eng)"
   ]
  },
  {
   "cell_type": "code",
   "execution_count": 51,
   "id": "253530e6",
   "metadata": {},
   "outputs": [],
   "source": [
    "y = df2['target']\n",
    "X = df2[['city_development_index','training_hours']]\n"
   ]
  },
  {
   "cell_type": "code",
   "execution_count": 52,
   "id": "fede3167",
   "metadata": {},
   "outputs": [],
   "source": [
    "X_train, X_test, y_train, y_test = train_test_split(X, y, test_size=0.20, random_state=42)\n",
    "X_train, X_val, y_train, y_val = train_test_split(X_train, y_train, test_size=0.20, random_state=42)"
   ]
  },
  {
   "cell_type": "code",
   "execution_count": 53,
   "id": "6f8ab52f",
   "metadata": {},
   "outputs": [
    {
     "name": "stdout",
     "output_type": "stream",
     "text": [
      "Logistic Regression Model, Accuracy (Train Set) : 0.7729504172803142\n",
      "Logistic Regression Model, Accuracy (Val Set) :  0.7719240837696335\n"
     ]
    }
   ],
   "source": [
    "#baseline model\n",
    "from sklearn.linear_model import LogisticRegression\n",
    "lr_model = LogisticRegression()\n",
    "lr_model.fit(X_train,y_train)\n",
    "#y_pred  = lr_model.predict(X_test)\n",
    "accuracy_train_set = lr_model.score(X_train, y_train)  #get accuracy on train set\n",
    "accuracy_valid_set = lr_model.score(X_val, y_val)  #get accuracy on valid set\n",
    "#accuracy_test_set = lr_model.score(X_test, y_test)  #get accuracy on test set\n",
    "print('Logistic Regression Model, Accuracy (Train Set) :' , accuracy_train_set)\n",
    "print('Logistic Regression Model, Accuracy (Val Set) : ', accuracy_valid_set)\n",
    "#print(“Logistic Regression Model, Accuracy (test Set) : “, accuracy_test_set"
   ]
  },
  {
   "cell_type": "markdown",
   "id": "7042548e",
   "metadata": {},
   "source": [
    "<a id='fe'></a>\n",
    "# Feature Engineering\n"
   ]
  },
  {
   "cell_type": "markdown",
   "id": "8b5cc8f1",
   "metadata": {},
   "source": [
    "### label encoding for two variables"
   ]
  },
  {
   "cell_type": "code",
   "execution_count": 54,
   "id": "d4caea30",
   "metadata": {},
   "outputs": [],
   "source": [
    "#label encoding\n",
    "from sklearn.preprocessing import LabelEncoder\n",
    "le = LabelEncoder()\n",
    "\n",
    "df2[['gender','relevent_experience']] = df2[['gender','relevent_experience']].apply(LabelEncoder().fit_transform)"
   ]
  },
  {
   "cell_type": "code",
   "execution_count": 55,
   "id": "8f826df5",
   "metadata": {},
   "outputs": [
    {
     "data": {
      "text/plain": [
       "city_development_index    float64\n",
       "gender                      int64\n",
       "relevent_experience         int64\n",
       "enrolled_university        object\n",
       "education_level            object\n",
       "major_discipline           object\n",
       "experience                  int64\n",
       "company_size               object\n",
       "company_type               object\n",
       "last_new_job                int64\n",
       "training_hours              int64\n",
       "target                      int64\n",
       "dtype: object"
      ]
     },
     "execution_count": 55,
     "metadata": {},
     "output_type": "execute_result"
    }
   ],
   "source": [
    "df2.dtypes"
   ]
  },
  {
   "cell_type": "markdown",
   "id": "0997c9cd",
   "metadata": {},
   "source": [
    "### get_dummies for more 2 values"
   ]
  },
  {
   "cell_type": "code",
   "execution_count": 56,
   "id": "a3e672f0",
   "metadata": {},
   "outputs": [],
   "source": [
    "df2 = pd.get_dummies(df2, columns=['enrolled_university','education_level',\n",
    "                                            'major_discipline', 'company_size',\n",
    "                                             'company_type'],drop_first = False)\n"
   ]
  },
  {
   "cell_type": "code",
   "execution_count": 57,
   "id": "c324a0fd",
   "metadata": {},
   "outputs": [
    {
     "data": {
      "text/plain": [
       "(19098, 35)"
      ]
     },
     "execution_count": 57,
     "metadata": {},
     "output_type": "execute_result"
    }
   ],
   "source": [
    "df2.shape"
   ]
  },
  {
   "cell_type": "code",
   "execution_count": 58,
   "id": "ca861276",
   "metadata": {},
   "outputs": [
    {
     "name": "stdout",
     "output_type": "stream",
     "text": [
      "<class 'pandas.core.frame.DataFrame'>\n",
      "Int64Index: 19098 entries, 0 to 19157\n",
      "Data columns (total 35 columns):\n",
      " #   Column                                Non-Null Count  Dtype  \n",
      "---  ------                                --------------  -----  \n",
      " 0   city_development_index                19098 non-null  float64\n",
      " 1   gender                                19098 non-null  int64  \n",
      " 2   relevent_experience                   19098 non-null  int64  \n",
      " 3   experience                            19098 non-null  int64  \n",
      " 4   last_new_job                          19098 non-null  int64  \n",
      " 5   training_hours                        19098 non-null  int64  \n",
      " 6   target                                19098 non-null  int64  \n",
      " 7   enrolled_university_Full time course  19098 non-null  uint8  \n",
      " 8   enrolled_university_Part time course  19098 non-null  uint8  \n",
      " 9   enrolled_university_no_enrollment     19098 non-null  uint8  \n",
      " 10  education_level_Graduate              19098 non-null  uint8  \n",
      " 11  education_level_High School           19098 non-null  uint8  \n",
      " 12  education_level_Masters               19098 non-null  uint8  \n",
      " 13  education_level_Phd                   19098 non-null  uint8  \n",
      " 14  education_level_Primary School        19098 non-null  uint8  \n",
      " 15  major_discipline_Arts                 19098 non-null  uint8  \n",
      " 16  major_discipline_Business Degree      19098 non-null  uint8  \n",
      " 17  major_discipline_Humanities           19098 non-null  uint8  \n",
      " 18  major_discipline_No Major             19098 non-null  uint8  \n",
      " 19  major_discipline_Other                19098 non-null  uint8  \n",
      " 20  major_discipline_STEM                 19098 non-null  uint8  \n",
      " 21  company_size_10/49                    19098 non-null  uint8  \n",
      " 22  company_size_100-500                  19098 non-null  uint8  \n",
      " 23  company_size_1000-4999                19098 non-null  uint8  \n",
      " 24  company_size_10000+                   19098 non-null  uint8  \n",
      " 25  company_size_50-99                    19098 non-null  uint8  \n",
      " 26  company_size_500-999                  19098 non-null  uint8  \n",
      " 27  company_size_5000-9999                19098 non-null  uint8  \n",
      " 28  company_size_<10                      19098 non-null  uint8  \n",
      " 29  company_type_Early Stage Startup      19098 non-null  uint8  \n",
      " 30  company_type_Funded Startup           19098 non-null  uint8  \n",
      " 31  company_type_NGO                      19098 non-null  uint8  \n",
      " 32  company_type_Other                    19098 non-null  uint8  \n",
      " 33  company_type_Public Sector            19098 non-null  uint8  \n",
      " 34  company_type_Pvt Ltd                  19098 non-null  uint8  \n",
      "dtypes: float64(1), int64(6), uint8(28)\n",
      "memory usage: 1.7 MB\n"
     ]
    }
   ],
   "source": [
    "df2.info()"
   ]
  },
  {
   "cell_type": "code",
   "execution_count": 59,
   "id": "c9f7bf7b",
   "metadata": {
    "scrolled": false
   },
   "outputs": [
    {
     "data": {
      "text/html": [
       "<div>\n",
       "<style scoped>\n",
       "    .dataframe tbody tr th:only-of-type {\n",
       "        vertical-align: middle;\n",
       "    }\n",
       "\n",
       "    .dataframe tbody tr th {\n",
       "        vertical-align: top;\n",
       "    }\n",
       "\n",
       "    .dataframe thead th {\n",
       "        text-align: right;\n",
       "    }\n",
       "</style>\n",
       "<table border=\"1\" class=\"dataframe\">\n",
       "  <thead>\n",
       "    <tr style=\"text-align: right;\">\n",
       "      <th></th>\n",
       "      <th>city_development_index</th>\n",
       "      <th>gender</th>\n",
       "      <th>relevent_experience</th>\n",
       "      <th>experience</th>\n",
       "      <th>last_new_job</th>\n",
       "      <th>training_hours</th>\n",
       "      <th>target</th>\n",
       "      <th>enrolled_university_Full time course</th>\n",
       "      <th>enrolled_university_Part time course</th>\n",
       "      <th>enrolled_university_no_enrollment</th>\n",
       "      <th>...</th>\n",
       "      <th>company_size_50-99</th>\n",
       "      <th>company_size_500-999</th>\n",
       "      <th>company_size_5000-9999</th>\n",
       "      <th>company_size_&lt;10</th>\n",
       "      <th>company_type_Early Stage Startup</th>\n",
       "      <th>company_type_Funded Startup</th>\n",
       "      <th>company_type_NGO</th>\n",
       "      <th>company_type_Other</th>\n",
       "      <th>company_type_Public Sector</th>\n",
       "      <th>company_type_Pvt Ltd</th>\n",
       "    </tr>\n",
       "  </thead>\n",
       "  <tbody>\n",
       "    <tr>\n",
       "      <th>0</th>\n",
       "      <td>0.920</td>\n",
       "      <td>1</td>\n",
       "      <td>0</td>\n",
       "      <td>20</td>\n",
       "      <td>1</td>\n",
       "      <td>36</td>\n",
       "      <td>1</td>\n",
       "      <td>0</td>\n",
       "      <td>0</td>\n",
       "      <td>1</td>\n",
       "      <td>...</td>\n",
       "      <td>1</td>\n",
       "      <td>0</td>\n",
       "      <td>0</td>\n",
       "      <td>0</td>\n",
       "      <td>0</td>\n",
       "      <td>0</td>\n",
       "      <td>0</td>\n",
       "      <td>0</td>\n",
       "      <td>0</td>\n",
       "      <td>1</td>\n",
       "    </tr>\n",
       "    <tr>\n",
       "      <th>1</th>\n",
       "      <td>0.776</td>\n",
       "      <td>1</td>\n",
       "      <td>1</td>\n",
       "      <td>15</td>\n",
       "      <td>4</td>\n",
       "      <td>47</td>\n",
       "      <td>0</td>\n",
       "      <td>0</td>\n",
       "      <td>0</td>\n",
       "      <td>1</td>\n",
       "      <td>...</td>\n",
       "      <td>1</td>\n",
       "      <td>0</td>\n",
       "      <td>0</td>\n",
       "      <td>0</td>\n",
       "      <td>0</td>\n",
       "      <td>0</td>\n",
       "      <td>0</td>\n",
       "      <td>0</td>\n",
       "      <td>0</td>\n",
       "      <td>1</td>\n",
       "    </tr>\n",
       "    <tr>\n",
       "      <th>2</th>\n",
       "      <td>0.624</td>\n",
       "      <td>1</td>\n",
       "      <td>1</td>\n",
       "      <td>5</td>\n",
       "      <td>0</td>\n",
       "      <td>83</td>\n",
       "      <td>0</td>\n",
       "      <td>1</td>\n",
       "      <td>0</td>\n",
       "      <td>0</td>\n",
       "      <td>...</td>\n",
       "      <td>1</td>\n",
       "      <td>0</td>\n",
       "      <td>0</td>\n",
       "      <td>0</td>\n",
       "      <td>0</td>\n",
       "      <td>0</td>\n",
       "      <td>0</td>\n",
       "      <td>0</td>\n",
       "      <td>0</td>\n",
       "      <td>1</td>\n",
       "    </tr>\n",
       "    <tr>\n",
       "      <th>3</th>\n",
       "      <td>0.789</td>\n",
       "      <td>1</td>\n",
       "      <td>1</td>\n",
       "      <td>1</td>\n",
       "      <td>0</td>\n",
       "      <td>52</td>\n",
       "      <td>1</td>\n",
       "      <td>0</td>\n",
       "      <td>0</td>\n",
       "      <td>1</td>\n",
       "      <td>...</td>\n",
       "      <td>1</td>\n",
       "      <td>0</td>\n",
       "      <td>0</td>\n",
       "      <td>0</td>\n",
       "      <td>0</td>\n",
       "      <td>0</td>\n",
       "      <td>0</td>\n",
       "      <td>0</td>\n",
       "      <td>0</td>\n",
       "      <td>1</td>\n",
       "    </tr>\n",
       "    <tr>\n",
       "      <th>4</th>\n",
       "      <td>0.767</td>\n",
       "      <td>1</td>\n",
       "      <td>0</td>\n",
       "      <td>20</td>\n",
       "      <td>4</td>\n",
       "      <td>8</td>\n",
       "      <td>0</td>\n",
       "      <td>0</td>\n",
       "      <td>0</td>\n",
       "      <td>1</td>\n",
       "      <td>...</td>\n",
       "      <td>1</td>\n",
       "      <td>0</td>\n",
       "      <td>0</td>\n",
       "      <td>0</td>\n",
       "      <td>0</td>\n",
       "      <td>1</td>\n",
       "      <td>0</td>\n",
       "      <td>0</td>\n",
       "      <td>0</td>\n",
       "      <td>0</td>\n",
       "    </tr>\n",
       "  </tbody>\n",
       "</table>\n",
       "<p>5 rows × 35 columns</p>\n",
       "</div>"
      ],
      "text/plain": [
       "   city_development_index  gender  relevent_experience  experience  \\\n",
       "0                   0.920       1                    0          20   \n",
       "1                   0.776       1                    1          15   \n",
       "2                   0.624       1                    1           5   \n",
       "3                   0.789       1                    1           1   \n",
       "4                   0.767       1                    0          20   \n",
       "\n",
       "   last_new_job  training_hours  target  enrolled_university_Full time course  \\\n",
       "0             1              36       1                                     0   \n",
       "1             4              47       0                                     0   \n",
       "2             0              83       0                                     1   \n",
       "3             0              52       1                                     0   \n",
       "4             4               8       0                                     0   \n",
       "\n",
       "   enrolled_university_Part time course  enrolled_university_no_enrollment  \\\n",
       "0                                     0                                  1   \n",
       "1                                     0                                  1   \n",
       "2                                     0                                  0   \n",
       "3                                     0                                  1   \n",
       "4                                     0                                  1   \n",
       "\n",
       "   ...  company_size_50-99  company_size_500-999  company_size_5000-9999  \\\n",
       "0  ...                   1                     0                       0   \n",
       "1  ...                   1                     0                       0   \n",
       "2  ...                   1                     0                       0   \n",
       "3  ...                   1                     0                       0   \n",
       "4  ...                   1                     0                       0   \n",
       "\n",
       "   company_size_<10  company_type_Early Stage Startup  \\\n",
       "0                 0                                 0   \n",
       "1                 0                                 0   \n",
       "2                 0                                 0   \n",
       "3                 0                                 0   \n",
       "4                 0                                 0   \n",
       "\n",
       "   company_type_Funded Startup  company_type_NGO  company_type_Other  \\\n",
       "0                            0                 0                   0   \n",
       "1                            0                 0                   0   \n",
       "2                            0                 0                   0   \n",
       "3                            0                 0                   0   \n",
       "4                            1                 0                   0   \n",
       "\n",
       "   company_type_Public Sector  company_type_Pvt Ltd  \n",
       "0                           0                     1  \n",
       "1                           0                     1  \n",
       "2                           0                     1  \n",
       "3                           0                     1  \n",
       "4                           0                     0  \n",
       "\n",
       "[5 rows x 35 columns]"
      ]
     },
     "execution_count": 59,
     "metadata": {},
     "output_type": "execute_result"
    }
   ],
   "source": [
    "df2.head()"
   ]
  },
  {
   "cell_type": "markdown",
   "id": "759d2634",
   "metadata": {},
   "source": [
    "### Feature Importance\n",
    "#### selected feature using feature importance"
   ]
  },
  {
   "cell_type": "code",
   "execution_count": 60,
   "id": "527118c0",
   "metadata": {},
   "outputs": [
    {
     "data": {
      "image/png": "[encoded data removed]",
      "text/plain": [
       "<Figure size 864x576 with 1 Axes>"
      ]
     },
     "metadata": {},
     "output_type": "display_data"
    }
   ],
   "source": [
    "\n",
    "X = df2.drop(columns='target')\n",
    "y = df2['target']\n",
    "selection =ExtraTreesRegressor()\n",
    "selection.fit(X,y)\n",
    "selection.feature_importances_\n",
    "plt.figure(figsize = (12,8))\n",
    "feat_importances = pd.Series(selection.feature_importances_,index = X.columns)\n",
    "feat_importances.nlargest(20).plot(kind=\"barh\",color=\"orange\")\n",
    "plt.savefig(\"featureimportances.png\")\n",
    "plt.show()\n"
   ]
  },
  {
   "cell_type": "code",
   "execution_count": 61,
   "id": "2d5c0df2",
   "metadata": {},
   "outputs": [],
   "source": [
    "df2.to_csv(\"cleaned_jobPrediction.csv\")"
   ]
  },
  {
   "cell_type": "markdown",
   "id": "034f542a",
   "metadata": {},
   "source": [
    "<a id='model'></a>\n",
    "# Modeling\n",
    "\n",
    ">  In this section of the report, I will.\n",
    "\n",
    "<li><a href=\"#logistic\">logistic Regression</a></li>\n",
    "<li><a href=\"#knn\">KNN</a></li>\n",
    "<li><a href=\"#tree\">Decision Tree</a></li>\n",
    "<li><a href=\"#rf\">Random Forst</a></li>\n",
    "<li><a href=\"#xgboost\">xgboost</a></li>\n",
    "<li><a href=\"#SVC Model\">SVC Model</a></li>\n",
    "<li><a href=\"#GradientBoostingClassifier\">GradientBoostingClassifier</a></li>\n",
    "<li><a href=\"#AdaBoostClassifier\">AdaBoostClassifier</a></li>\n",
    "<li><a href=\"#ML Classifier\">ML Classifier</a></li>"
   ]
  },
  {
   "cell_type": "markdown",
   "id": "a356472b",
   "metadata": {},
   "source": [
    "<a id='logistic'></a>\n",
    "## logistic Regression after label encoding & dummies ( feature eng )"
   ]
  },
  {
   "cell_type": "code",
   "execution_count": 62,
   "id": "e5723f8d",
   "metadata": {},
   "outputs": [
    {
     "name": "stdout",
     "output_type": "stream",
     "text": [
      "Logistic Regression Model, Accuracy (Train Set) : 0.7729504172803142\n",
      "Logistic Regression Model, Accuracy (Val Set) :  0.7719240837696335\n",
      "Logistic Regression Model, Accuracy (test Set) : 0.7725130890052356\n",
      "AUC : 0.6080157841388438\n",
      "              precision    recall  f1-score   support\n",
      "\n",
      "           0       0.80      0.93      0.86      2878\n",
      "           1       0.58      0.28      0.38       942\n",
      "\n",
      "    accuracy                           0.77      3820\n",
      "   macro avg       0.69      0.61      0.62      3820\n",
      "weighted avg       0.74      0.77      0.74      3820\n",
      "\n"
     ]
    }
   ],
   "source": [
    "y = df2['target']\n",
    "X = df2.drop(columns='target')\n",
    "\n",
    "#Logistic Regression After converting categorical variables to dummies\n",
    "\n",
    "from sklearn.linear_model import LogisticRegression\n",
    "lr_model = LogisticRegression()\n",
    "lr_model.fit(X_train,y_train)\n",
    "y_pred  = lr_model.predict(X_test)\n",
    "accuracy_train_set = lr_model.score(X_train, y_train)  #get accuracy on train set\n",
    "accuracy_valid_set = lr_model.score(X_val, y_val)  #get accuracy on valid set\n",
    "accuracy_test_set = lr_model.score(X_test, y_test)  #get accuracy on test set\n",
    "print('Logistic Regression Model, Accuracy (Train Set) :', accuracy_train_set)\n",
    "print('Logistic Regression Model, Accuracy (Val Set) : ', accuracy_valid_set)\n",
    "print('Logistic Regression Model, Accuracy (test Set) :' , accuracy_test_set)\n",
    "\n",
    "# Area under the curve\n",
    "from sklearn import metrics\n",
    "auc = metrics.roc_auc_score(y_test, y_pred)\n",
    "print('AUC :',auc)\n",
    "\n",
    "from sklearn.metrics import classification_report, confusion_matrix\n",
    "print(classification_report(y_test, y_pred,target_names = ['0','1']))"
   ]
  },
  {
   "cell_type": "markdown",
   "id": "e3864d0c",
   "metadata": {},
   "source": [
    "## Solving the imbalanced data issue "
   ]
  },
  {
   "cell_type": "code",
   "execution_count": 63,
   "id": "865dc666",
   "metadata": {},
   "outputs": [
    {
     "data": {
      "image/png": "[encoded data removed]",
      "text/plain": [
       "<Figure size 432x288 with 1 Axes>"
      ]
     },
     "metadata": {},
     "output_type": "display_data"
    }
   ],
   "source": [
    "sns.countplot(x =df2[\"target\"])\n",
    "plt.savefig(\"imbalnced_target.png\")\n",
    "plt.show()"
   ]
  },
  {
   "cell_type": "code",
   "execution_count": 64,
   "id": "427bb39b",
   "metadata": {},
   "outputs": [],
   "source": [
    "import imblearn\n",
    "from imblearn.over_sampling import SMOTE, ADASYN, RandomOverSampler \n",
    "\n",
    "x = np.concatenate([df2.drop('target', axis=1).values], axis=1)\n",
    "y = df2['target'].values\n"
   ]
  },
  {
   "cell_type": "code",
   "execution_count": 65,
   "id": "ebd84af2",
   "metadata": {},
   "outputs": [],
   "source": [
    "from imblearn.over_sampling import SMOTE\n",
    "x, y = SMOTE(random_state = 100).fit_resample(x, y)"
   ]
  },
  {
   "cell_type": "code",
   "execution_count": 66,
   "id": "5de9d58a",
   "metadata": {},
   "outputs": [
    {
     "data": {
      "image/png": "[encoded data removed]",
      "text/plain": [
       "<Figure size 432x288 with 1 Axes>"
      ]
     },
     "metadata": {},
     "output_type": "display_data"
    }
   ],
   "source": [
    "pd.value_counts(y).plot.bar();"
   ]
  },
  {
   "cell_type": "markdown",
   "id": "8d46fb1c",
   "metadata": {},
   "source": [
    "### ADA"
   ]
  },
  {
   "cell_type": "code",
   "execution_count": 67,
   "id": "6d172a6b",
   "metadata": {},
   "outputs": [
    {
     "data": {
      "text/plain": [
       "0    14337\n",
       "1    14337\n",
       "dtype: int64"
      ]
     },
     "execution_count": 67,
     "metadata": {},
     "output_type": "execute_result"
    }
   ],
   "source": [
    "ada = ADASYN()\n",
    "X_train_ada, y_train_ada = ada.fit_resample(x, y)\n",
    "pd.value_counts(y_train_ada)"
   ]
  },
  {
   "cell_type": "markdown",
   "id": "f3928ecf",
   "metadata": {},
   "source": [
    "### Random over sampling"
   ]
  },
  {
   "cell_type": "code",
   "execution_count": 68,
   "id": "44146691",
   "metadata": {},
   "outputs": [
    {
     "data": {
      "text/plain": [
       "0    14337\n",
       "1    14337\n",
       "dtype: int64"
      ]
     },
     "execution_count": 68,
     "metadata": {},
     "output_type": "execute_result"
    }
   ],
   "source": [
    "over_sample = RandomOverSampler(sampling_strategy='all')\n",
    "X_train_over, y_train_over = over_sample.fit_resample(x, y)\n",
    "y_train_over=pd.Series(y_train_over)\n",
    "y_train_over.value_counts()"
   ]
  },
  {
   "cell_type": "markdown",
   "id": "0f120123",
   "metadata": {},
   "source": [
    "## logistic Regression after Solving imbalanced data"
   ]
  },
  {
   "cell_type": "code",
   "execution_count": 69,
   "id": "3fec65a6",
   "metadata": {},
   "outputs": [],
   "source": [
    "X_train, X_test, y_train, y_test = train_test_split(x, y, test_size=0.20, random_state=42)\n",
    "X_train, X_val, y_train, y_val = train_test_split(X_train, y_train, test_size=0.20, random_state=42)"
   ]
  },
  {
   "cell_type": "code",
   "execution_count": 70,
   "id": "c7a890b0",
   "metadata": {},
   "outputs": [
    {
     "name": "stderr",
     "output_type": "stream",
     "text": [
      "/Users/raghadalthunayan/opt/anaconda3/lib/python3.8/site-packages/sklearn/linear_model/_logistic.py:763: ConvergenceWarning: lbfgs failed to converge (status=1):\n",
      "STOP: TOTAL NO. of ITERATIONS REACHED LIMIT.\n",
      "\n",
      "Increase the number of iterations (max_iter) or scale the data as shown in:\n",
      "    https://scikit-learn.org/stable/modules/preprocessing.html\n",
      "Please also refer to the documentation for alternative solver options:\n",
      "    https://scikit-learn.org/stable/modules/linear_model.html#logistic-regression\n",
      "  n_iter_i = _check_optimize_result(\n"
     ]
    },
    {
     "name": "stdout",
     "output_type": "stream",
     "text": [
      "Logistic Regression Model\n",
      "Logistic Regression Model, Accuracy (Train Set) : 0.709443627050297\n",
      "Logistic Regression Model, Accuracy (Val Set) :  0.708151700087184\n",
      "Logistic Regression Model, Accuracy (test Set) : 0.7157802964254577\n",
      "\n",
      "\n",
      "precision : 0.713140467061694\n",
      "recall    : 0.7171398527865405\n",
      "f1        : 0.7151345683327508\n",
      "AUC score : 0.7157871366639156\n",
      "\n",
      "\n",
      "              precision    recall  f1-score   support\n",
      "\n",
      "           0       0.72      0.71      0.72      2882\n",
      "           1       0.71      0.72      0.72      2853\n",
      "\n",
      "    accuracy                           0.72      5735\n",
      "   macro avg       0.72      0.72      0.72      5735\n",
      "weighted avg       0.72      0.72      0.72      5735\n",
      "\n"
     ]
    },
    {
     "data": {
      "image/png": "[encoded data removed]",
      "text/plain": [
       "<Figure size 432x288 with 2 Axes>"
      ]
     },
     "metadata": {},
     "output_type": "display_data"
    },
    {
     "name": "stdout",
     "output_type": "stream",
     "text": [
      "_________________________________________________________________________________\n"
     ]
    },
    {
     "data": {
      "text/plain": [
       "<sklearn.metrics._plot.roc_curve.RocCurveDisplay at 0x7fccadce6040>"
      ]
     },
     "execution_count": 70,
     "metadata": {},
     "output_type": "execute_result"
    },
    {
     "data": {
      "image/png": "[encoded data removed]",
      "text/plain": [
       "<Figure size 432x288 with 1 Axes>"
      ]
     },
     "metadata": {},
     "output_type": "display_data"
    }
   ],
   "source": [
    "\n",
    "from sklearn.linear_model import LogisticRegression\n",
    "from sklearn.metrics import classification_report,confusion_matrix,roc_curve,precision_score,\\\n",
    "                            recall_score, accuracy_score,roc_auc_score, f1_score, plot_roc_curve\n",
    "lr_model = LogisticRegression()\n",
    "lr_model.fit(X_train,y_train)\n",
    "y_pred  = lr_model.predict(X_test)\n",
    "accuracy_train_set = lr_model.score(X_train, y_train)  #get accuracy on train set\n",
    "accuracy_valid_set = lr_model.score(X_val, y_val)  #get accuracy on valid set\n",
    "accuracy_test_set = lr_model.score(X_test, y_test)  #get accuracy on test set\n",
    "print('Logistic Regression Model')\n",
    "print('Logistic Regression Model, Accuracy (Train Set) :', accuracy_train_set)\n",
    "print('Logistic Regression Model, Accuracy (Val Set) : ', accuracy_valid_set)\n",
    "print('Logistic Regression Model, Accuracy (test Set) :' , accuracy_test_set)\n",
    "print('\\n')\n",
    "print(\"precision :\",precision_score(y_test, y_pred))\n",
    "print(\"recall    :\",recall_score(y_test,y_pred))\n",
    "print(\"f1        :\",f1_score(y_test,y_pred))\n",
    "print(\"AUC score :\",metrics.roc_auc_score(y_test, y_pred, average=None))\n",
    "print('\\n')\n",
    "print(classification_report(y_test,y_pred))\n",
    "\n",
    "cnf_matrix = confusion_matrix(y_test, y_pred)\n",
    "sn.heatmap(cnf_matrix,cmap=\"Wistia_r\", annot_kws={\"size\": 15},annot=True,linewidths=0.5, fmt='g')\n",
    "plt.title(\"Confusion_matrix\")\n",
    "plt.xlabel(\"Predicted_class\")\n",
    "plt.ylabel(\"Real class\")\n",
    "plt.show()\n",
    "print('_________________________________________________________________________________')\n",
    "metrics.plot_roc_curve(lr_model, X_val, y_val)"
   ]
  },
  {
   "cell_type": "markdown",
   "id": "58de59ed",
   "metadata": {},
   "source": [
    "<a id='knn'></a>\n",
    "## KNN model"
   ]
  },
  {
   "cell_type": "code",
   "execution_count": 71,
   "id": "84c52b95",
   "metadata": {},
   "outputs": [
    {
     "name": "stdout",
     "output_type": "stream",
     "text": [
      "[0.67759372 0.69014821 0.72414996 0.73164778 0.72671782]\n"
     ]
    }
   ],
   "source": [
    "# 5-fold cross-validation with K=5 for KNN (the n_neighbors parameter)\n",
    "knn = KNeighborsClassifier(n_neighbors=5)\n",
    "scores = cross_val_score(knn, x, y, cv=5, scoring='accuracy')\n",
    "print(scores)"
   ]
  },
  {
   "cell_type": "code",
   "execution_count": 72,
   "id": "87401496",
   "metadata": {},
   "outputs": [
    {
     "name": "stdout",
     "output_type": "stream",
     "text": [
      "0.7100514984419706\n"
     ]
    }
   ],
   "source": [
    "# use average accuracy as an estimate of out-of-sample accuracy\n",
    "print(scores.mean())"
   ]
  },
  {
   "cell_type": "code",
   "execution_count": 73,
   "id": "c7495f1d",
   "metadata": {},
   "outputs": [],
   "source": [
    "# search for an optimal value of K for KNN\n",
    "#k_range = list(range(1, 31))\n",
    "#k_scores = []\n",
    "#for k in k_range:\n",
    "    #knn = KNeighborsClassifier(n_neighbors=k)\n",
    "    #scores = cross_val_score(knn, x, y, cv=10, scoring='accuracy')\n",
    "    #k_scores.append(scores.mean())\n",
    "#print(k_scores)"
   ]
  },
  {
   "cell_type": "code",
   "execution_count": 74,
   "id": "e1bf2477",
   "metadata": {},
   "outputs": [
    {
     "name": "stdout",
     "output_type": "stream",
     "text": [
      "[1, 2, 3, 4, 5, 6, 7, 8, 9, 10, 11, 12, 13, 14, 15, 16, 17, 18, 19, 20, 21, 22, 23, 24, 25, 26, 27, 28, 29, 30, 31, 32, 33, 34, 35, 36, 37, 38, 39, 40, 41, 42, 43, 44, 45, 46, 47, 48, 49, 50, 51, 52, 53, 54, 55, 56, 57, 58, 59, 60, 61, 62, 63, 64, 65, 66, 67, 68, 69, 70, 71, 72, 73, 74, 75, 76, 77, 78, 79, 80, 81, 82, 83, 84, 85, 86, 87, 88, 89, 90, 91, 92, 93, 94, 95, 96, 97, 98, 99]\n"
     ]
    }
   ],
   "source": [
    "from sklearn.neighbors import KNeighborsClassifier\n",
    "from sklearn import metrics\n",
    "\n",
    "# define the parameter values that should be searched\n",
    "k_range = list(range(1, 100))\n",
    "print(k_range)\n",
    "knn = KNeighborsClassifier(n_neighbors=k_range)"
   ]
  },
  {
   "cell_type": "code",
   "execution_count": 75,
   "id": "b790f65b",
   "metadata": {},
   "outputs": [
    {
     "name": "stdout",
     "output_type": "stream",
     "text": [
      "{'n_neighbors': [1, 2, 3, 4, 5, 6, 7, 8, 9, 10, 11, 12, 13, 14, 15, 16, 17, 18, 19, 20, 21, 22, 23, 24, 25, 26, 27, 28, 29, 30, 31, 32, 33, 34, 35, 36, 37, 38, 39, 40, 41, 42, 43, 44, 45, 46, 47, 48, 49, 50, 51, 52, 53, 54, 55, 56, 57, 58, 59, 60, 61, 62, 63, 64, 65, 66, 67, 68, 69, 70, 71, 72, 73, 74, 75, 76, 77, 78, 79, 80, 81, 82, 83, 84, 85, 86, 87, 88, 89, 90, 91, 92, 93, 94, 95, 96, 97, 98, 99]}\n"
     ]
    }
   ],
   "source": [
    "# create a parameter grid: map the parameter names to the values that should be searched\n",
    "param_grid = dict(n_neighbors=k_range)\n",
    "print(param_grid)"
   ]
  },
  {
   "cell_type": "markdown",
   "id": "7f8dd31e",
   "metadata": {},
   "source": [
    "## Tuning the parameters to find the best KNN model"
   ]
  },
  {
   "cell_type": "code",
   "execution_count": 76,
   "id": "133caaf8",
   "metadata": {},
   "outputs": [],
   "source": [
    "# instantiate the grid\n",
    "grid = GridSearchCV(knn, param_grid, cv=5, scoring='accuracy')\n"
   ]
  },
  {
   "cell_type": "code",
   "execution_count": 77,
   "id": "79e16c04",
   "metadata": {},
   "outputs": [],
   "source": [
    "# fit the grid with data\n",
    "grid.fit(X_train, y_train);\n"
   ]
  },
  {
   "cell_type": "code",
   "execution_count": 78,
   "id": "e8c9a054",
   "metadata": {},
   "outputs": [
    {
     "data": {
      "text/plain": [
       "{'mean_fit_time': array([0.00468388, 0.00308495, 0.00262122, 0.00261121, 0.00266614,\n",
       "        0.00259571, 0.00273404, 0.00260553, 0.00256248, 0.00302424,\n",
       "        0.00280166, 0.00265484, 0.00265722, 0.00274982, 0.00294313,\n",
       "        0.00301223, 0.0028635 , 0.00272903, 0.00261655, 0.00279365,\n",
       "        0.003585  , 0.0036644 , 0.00338202, 0.00413756, 0.00480618,\n",
       "        0.00274582, 0.00272593, 0.00257754, 0.00270786, 0.00258694,\n",
       "        0.00262017, 0.00267348, 0.00284734, 0.00286598, 0.00265288,\n",
       "        0.00264244, 0.01263819, 0.00302267, 0.00277872, 0.00335302,\n",
       "        0.00294175, 0.00263882, 0.00285521, 0.00303478, 0.00285258,\n",
       "        0.0029952 , 0.00273604, 0.003473  , 0.00280657, 0.0025918 ,\n",
       "        0.00367961, 0.00317278, 0.00294175, 0.00294189, 0.0030664 ,\n",
       "        0.00315819, 0.00329318, 0.00349283, 0.00270734, 0.00274029,\n",
       "        0.00264072, 0.0028934 , 0.00280538, 0.00293016, 0.00276756,\n",
       "        0.00295424, 0.00303073, 0.00319533, 0.00253434, 0.00254116,\n",
       "        0.0026351 , 0.00308056, 0.00298023, 0.00413022, 0.00301881,\n",
       "        0.00304027, 0.00288305, 0.00347414, 0.0034214 , 0.00270734,\n",
       "        0.0026762 , 0.0026782 , 0.00365586, 0.00270314, 0.00261374,\n",
       "        0.00276403, 0.00643144, 0.0062233 , 0.00260119, 0.00389256,\n",
       "        0.00321221, 0.00559182, 0.00301867, 0.0031538 , 0.00252957,\n",
       "        0.00253477, 0.00249186, 0.00256019, 0.00300822]),\n",
       " 'std_fit_time': array([3.78460482e-03, 7.11570838e-04, 9.67450068e-05, 5.91584480e-05,\n",
       "        2.04210633e-04, 1.04999001e-04, 1.73292923e-04, 1.01082797e-04,\n",
       "        5.38520811e-05, 5.45118763e-04, 2.93608894e-04, 1.27432034e-04,\n",
       "        1.28154225e-04, 4.05700290e-04, 3.82680717e-04, 3.62680173e-04,\n",
       "        4.99419800e-04, 2.17358393e-04, 1.51481987e-04, 2.34142903e-04,\n",
       "        9.12407594e-04, 1.80299997e-03, 6.08007605e-04, 4.61793152e-04,\n",
       "        3.60316062e-03, 1.75182301e-04, 1.56773485e-04, 6.33775602e-05,\n",
       "        1.85631952e-04, 1.51096190e-04, 7.60588002e-05, 1.61831366e-04,\n",
       "        2.16057521e-04, 3.69126029e-04, 1.25202220e-04, 6.74119246e-05,\n",
       "        1.68589876e-02, 4.95431283e-04, 1.84446222e-04, 8.60059427e-04,\n",
       "        4.34690481e-04, 9.29948604e-05, 3.48499092e-04, 5.03690324e-04,\n",
       "        4.26728859e-04, 4.21438392e-04, 1.63041942e-04, 9.15785674e-04,\n",
       "        1.63617108e-04, 7.54461872e-05, 1.21677546e-03, 5.21968105e-04,\n",
       "        6.33629437e-04, 5.05497642e-04, 8.47937312e-04, 7.13745758e-04,\n",
       "        7.94032718e-04, 8.03565110e-04, 8.25149584e-05, 1.50194365e-04,\n",
       "        6.07771936e-05, 4.12900600e-04, 2.38405637e-04, 3.33163464e-04,\n",
       "        2.54696532e-04, 4.74965643e-04, 5.09129004e-04, 7.01389766e-04,\n",
       "        3.97152399e-05, 6.43863664e-05, 1.61185038e-04, 6.89440070e-04,\n",
       "        2.96838963e-04, 2.27704271e-03, 6.75510471e-04, 3.79656697e-04,\n",
       "        4.21750097e-04, 1.74809489e-03, 7.87660910e-04, 1.38714265e-04,\n",
       "        1.47402575e-04, 1.61813578e-04, 2.01373134e-03, 1.23843928e-04,\n",
       "        1.55907522e-05, 3.02909333e-04, 7.52910922e-03, 4.16645355e-03,\n",
       "        1.47183836e-04, 1.37803869e-03, 5.27646182e-04, 5.62548782e-03,\n",
       "        4.56620702e-04, 3.57920590e-04, 3.89133597e-05, 9.62291883e-05,\n",
       "        7.43720150e-05, 1.31480305e-04, 5.01896821e-04]),\n",
       " 'mean_score_time': array([1.1036757 , 1.14600019, 1.13387737, 1.3255928 , 1.3070992 ,\n",
       "        1.30309525, 1.32921934, 1.32249522, 1.37588711, 1.52030196,\n",
       "        1.45377998, 1.97223783, 1.47385011, 1.65352631, 1.57189913,\n",
       "        1.47781515, 1.56667943, 1.48760724, 1.37174339, 1.67965274,\n",
       "        2.27485013, 2.63456845, 1.62647314, 2.67501798, 2.23336372,\n",
       "        1.35108185, 1.37980046, 1.32297001, 1.5765955 , 1.33969064,\n",
       "        1.38845372, 1.36972313, 1.72923799, 1.46169705, 1.48864288,\n",
       "        1.52160525, 2.01816244, 1.76912675, 1.44066911, 1.49895873,\n",
       "        1.44517503, 1.43213992, 1.44622116, 1.45689526, 1.47113023,\n",
       "        1.47854323, 1.48839893, 1.47751799, 1.5406692 , 1.46911368,\n",
       "        1.48419247, 1.47529764, 1.48031693, 1.53305712, 1.47304406,\n",
       "        1.44731016, 1.47945657, 1.46100688, 1.44143653, 1.46595173,\n",
       "        1.45178003, 1.44935098, 1.46739802, 1.45512037, 1.46600699,\n",
       "        1.48420453, 1.96190548, 1.45760069, 1.35528097, 1.3720078 ,\n",
       "        1.35236015, 1.59058681, 1.50305033, 2.06255584, 1.61006618,\n",
       "        1.73767238, 1.47085757, 1.55248475, 1.46094217, 1.37634935,\n",
       "        1.35577946, 1.45353832, 1.52310715, 1.58725905, 1.38623762,\n",
       "        1.86647615, 2.15343099, 2.82130818, 1.55114512, 2.00454898,\n",
       "        2.27429104, 1.82245507, 2.09295697, 2.04890962, 1.36431661,\n",
       "        1.38604722, 1.37651677, 1.39718404, 1.84588637]),\n",
       " 'std_score_time': array([0.11225168, 0.14449313, 0.01013763, 0.06727478, 0.03926635,\n",
       "        0.03858382, 0.0315871 , 0.03859273, 0.08426718, 0.14236834,\n",
       "        0.03376371, 0.94127944, 0.05686908, 0.55119997, 0.14806339,\n",
       "        0.1822574 , 0.22854038, 0.32944519, 0.06296964, 0.57613873,\n",
       "        0.47262314, 1.05628436, 0.14139886, 0.99727031, 0.73132278,\n",
       "        0.04040652, 0.07575094, 0.03992152, 0.4332065 , 0.05117418,\n",
       "        0.08411093, 0.06194182, 0.29761712, 0.10467903, 0.25693608,\n",
       "        0.35319181, 0.30474102, 0.59545721, 0.04477549, 0.05123802,\n",
       "        0.04409154, 0.03817031, 0.0641006 , 0.03217467, 0.06031871,\n",
       "        0.04492112, 0.0925668 , 0.02364824, 0.09105816, 0.08757201,\n",
       "        0.03558272, 0.06288345, 0.02230558, 0.03707044, 0.04244969,\n",
       "        0.04209516, 0.043392  , 0.04088939, 0.03663104, 0.07697751,\n",
       "        0.02964957, 0.04055885, 0.07044926, 0.04320335, 0.04367094,\n",
       "        0.04796595, 0.57738133, 0.11502874, 0.04451607, 0.05201491,\n",
       "        0.04921964, 0.19381134, 0.11205989, 0.5526623 , 0.17161936,\n",
       "        0.50028523, 0.15688783, 0.19914532, 0.07380898, 0.07225101,\n",
       "        0.04963046, 0.21035909, 0.12645398, 0.22925918, 0.09583646,\n",
       "        0.68002673, 1.27093005, 1.22420076, 0.09689442, 0.36462989,\n",
       "        0.43447187, 0.34322562, 0.33229415, 0.68835432, 0.04822484,\n",
       "        0.02779219, 0.07202986, 0.11847401, 0.39872921]),\n",
       " 'param_n_neighbors': masked_array(data=[1, 2, 3, 4, 5, 6, 7, 8, 9, 10, 11, 12, 13, 14, 15, 16,\n",
       "                    17, 18, 19, 20, 21, 22, 23, 24, 25, 26, 27, 28, 29, 30,\n",
       "                    31, 32, 33, 34, 35, 36, 37, 38, 39, 40, 41, 42, 43, 44,\n",
       "                    45, 46, 47, 48, 49, 50, 51, 52, 53, 54, 55, 56, 57, 58,\n",
       "                    59, 60, 61, 62, 63, 64, 65, 66, 67, 68, 69, 70, 71, 72,\n",
       "                    73, 74, 75, 76, 77, 78, 79, 80, 81, 82, 83, 84, 85, 86,\n",
       "                    87, 88, 89, 90, 91, 92, 93, 94, 95, 96, 97, 98, 99],\n",
       "              mask=[False, False, False, False, False, False, False, False,\n",
       "                    False, False, False, False, False, False, False, False,\n",
       "                    False, False, False, False, False, False, False, False,\n",
       "                    False, False, False, False, False, False, False, False,\n",
       "                    False, False, False, False, False, False, False, False,\n",
       "                    False, False, False, False, False, False, False, False,\n",
       "                    False, False, False, False, False, False, False, False,\n",
       "                    False, False, False, False, False, False, False, False,\n",
       "                    False, False, False, False, False, False, False, False,\n",
       "                    False, False, False, False, False, False, False, False,\n",
       "                    False, False, False, False, False, False, False, False,\n",
       "                    False, False, False, False, False, False, False, False,\n",
       "                    False, False, False],\n",
       "        fill_value='?',\n",
       "             dtype=object),\n",
       " 'params': [{'n_neighbors': 1},\n",
       "  {'n_neighbors': 2},\n",
       "  {'n_neighbors': 3},\n",
       "  {'n_neighbors': 4},\n",
       "  {'n_neighbors': 5},\n",
       "  {'n_neighbors': 6},\n",
       "  {'n_neighbors': 7},\n",
       "  {'n_neighbors': 8},\n",
       "  {'n_neighbors': 9},\n",
       "  {'n_neighbors': 10},\n",
       "  {'n_neighbors': 11},\n",
       "  {'n_neighbors': 12},\n",
       "  {'n_neighbors': 13},\n",
       "  {'n_neighbors': 14},\n",
       "  {'n_neighbors': 15},\n",
       "  {'n_neighbors': 16},\n",
       "  {'n_neighbors': 17},\n",
       "  {'n_neighbors': 18},\n",
       "  {'n_neighbors': 19},\n",
       "  {'n_neighbors': 20},\n",
       "  {'n_neighbors': 21},\n",
       "  {'n_neighbors': 22},\n",
       "  {'n_neighbors': 23},\n",
       "  {'n_neighbors': 24},\n",
       "  {'n_neighbors': 25},\n",
       "  {'n_neighbors': 26},\n",
       "  {'n_neighbors': 27},\n",
       "  {'n_neighbors': 28},\n",
       "  {'n_neighbors': 29},\n",
       "  {'n_neighbors': 30},\n",
       "  {'n_neighbors': 31},\n",
       "  {'n_neighbors': 32},\n",
       "  {'n_neighbors': 33},\n",
       "  {'n_neighbors': 34},\n",
       "  {'n_neighbors': 35},\n",
       "  {'n_neighbors': 36},\n",
       "  {'n_neighbors': 37},\n",
       "  {'n_neighbors': 38},\n",
       "  {'n_neighbors': 39},\n",
       "  {'n_neighbors': 40},\n",
       "  {'n_neighbors': 41},\n",
       "  {'n_neighbors': 42},\n",
       "  {'n_neighbors': 43},\n",
       "  {'n_neighbors': 44},\n",
       "  {'n_neighbors': 45},\n",
       "  {'n_neighbors': 46},\n",
       "  {'n_neighbors': 47},\n",
       "  {'n_neighbors': 48},\n",
       "  {'n_neighbors': 49},\n",
       "  {'n_neighbors': 50},\n",
       "  {'n_neighbors': 51},\n",
       "  {'n_neighbors': 52},\n",
       "  {'n_neighbors': 53},\n",
       "  {'n_neighbors': 54},\n",
       "  {'n_neighbors': 55},\n",
       "  {'n_neighbors': 56},\n",
       "  {'n_neighbors': 57},\n",
       "  {'n_neighbors': 58},\n",
       "  {'n_neighbors': 59},\n",
       "  {'n_neighbors': 60},\n",
       "  {'n_neighbors': 61},\n",
       "  {'n_neighbors': 62},\n",
       "  {'n_neighbors': 63},\n",
       "  {'n_neighbors': 64},\n",
       "  {'n_neighbors': 65},\n",
       "  {'n_neighbors': 66},\n",
       "  {'n_neighbors': 67},\n",
       "  {'n_neighbors': 68},\n",
       "  {'n_neighbors': 69},\n",
       "  {'n_neighbors': 70},\n",
       "  {'n_neighbors': 71},\n",
       "  {'n_neighbors': 72},\n",
       "  {'n_neighbors': 73},\n",
       "  {'n_neighbors': 74},\n",
       "  {'n_neighbors': 75},\n",
       "  {'n_neighbors': 76},\n",
       "  {'n_neighbors': 77},\n",
       "  {'n_neighbors': 78},\n",
       "  {'n_neighbors': 79},\n",
       "  {'n_neighbors': 80},\n",
       "  {'n_neighbors': 81},\n",
       "  {'n_neighbors': 82},\n",
       "  {'n_neighbors': 83},\n",
       "  {'n_neighbors': 84},\n",
       "  {'n_neighbors': 85},\n",
       "  {'n_neighbors': 86},\n",
       "  {'n_neighbors': 87},\n",
       "  {'n_neighbors': 88},\n",
       "  {'n_neighbors': 89},\n",
       "  {'n_neighbors': 90},\n",
       "  {'n_neighbors': 91},\n",
       "  {'n_neighbors': 92},\n",
       "  {'n_neighbors': 93},\n",
       "  {'n_neighbors': 94},\n",
       "  {'n_neighbors': 95},\n",
       "  {'n_neighbors': 96},\n",
       "  {'n_neighbors': 97},\n",
       "  {'n_neighbors': 98},\n",
       "  {'n_neighbors': 99}],\n",
       " 'split0_test_score': array([0.74557341, 0.72405339, 0.6938164 , 0.6889131 , 0.66929992,\n",
       "        0.67529284, 0.6529556 , 0.65132117, 0.64178698, 0.64750749,\n",
       "        0.63661128, 0.63579406, 0.61972215, 0.6224462 , 0.61836012,\n",
       "        0.62217379, 0.61563607, 0.61890493, 0.61318442, 0.61972215,\n",
       "        0.61263961, 0.61781531, 0.61263961, 0.61672569, 0.61291201,\n",
       "        0.61672569, 0.6120948 , 0.61318442, 0.61100518, 0.61454645,\n",
       "        0.60937074, 0.61372923, 0.60964315, 0.61154999, 0.6120948 ,\n",
       "        0.61618088, 0.61046037, 0.61100518, 0.60582947, 0.60855353,\n",
       "        0.6071915 , 0.61073277, 0.61073277, 0.61100518, 0.60582947,\n",
       "        0.61073277, 0.60800872, 0.60964315, 0.60773631, 0.61154999,\n",
       "        0.61046037, 0.61509126, 0.61291201, 0.61318442, 0.60937074,\n",
       "        0.61127758, 0.60909834, 0.61454645, 0.61345682, 0.61481885,\n",
       "        0.61318442, 0.6175429 , 0.61291201, 0.61699809, 0.61318442,\n",
       "        0.6175429 , 0.61345682, 0.61563607, 0.61073277, 0.61345682,\n",
       "        0.6123672 , 0.61318442, 0.61291201, 0.61372923, 0.61345682,\n",
       "        0.61400163, 0.61590847, 0.6172705 , 0.61618088, 0.61509126,\n",
       "        0.61536366, 0.61509126, 0.61400163, 0.61645328, 0.61454645,\n",
       "        0.61536366, 0.61372923, 0.61536366, 0.61400163, 0.61645328,\n",
       "        0.61318442, 0.61318442, 0.61291201, 0.61590847, 0.61345682,\n",
       "        0.61100518, 0.61127758, 0.6123672 , 0.60991555]),\n",
       " 'split1_test_score': array([0.73297003, 0.71117166, 0.68337875, 0.69237057, 0.67029973,\n",
       "        0.67520436, 0.65367847, 0.66594005, 0.64877384, 0.6493188 ,\n",
       "        0.64114441, 0.64468665, 0.63405995, 0.63297003, 0.61989101,\n",
       "        0.6280654 , 0.61743869, 0.62370572, 0.61934605, 0.62506812,\n",
       "        0.61743869, 0.62098093, 0.61362398, 0.61525886, 0.61226158,\n",
       "        0.61743869, 0.61117166, 0.61607629, 0.60926431, 0.61607629,\n",
       "        0.61444142, 0.61525886, 0.61171662, 0.61689373, 0.6119891 ,\n",
       "        0.61607629, 0.61416894, 0.6147139 , 0.61171662, 0.61498638,\n",
       "        0.61008174, 0.61035422, 0.61171662, 0.61226158, 0.6119891 ,\n",
       "        0.61307902, 0.60817439, 0.60980926, 0.60572207, 0.60790191,\n",
       "        0.60844687, 0.60681199, 0.60463215, 0.60544959, 0.60435967,\n",
       "        0.60544959, 0.60299728, 0.60735695, 0.60408719, 0.60544959,\n",
       "        0.60653951, 0.60953678, 0.60381471, 0.60435967, 0.60299728,\n",
       "        0.60708447, 0.60735695, 0.60790191, 0.60408719, 0.60681199,\n",
       "        0.60544959, 0.60871935, 0.60435967, 0.60735695, 0.60735695,\n",
       "        0.60817439, 0.60817439, 0.60844687, 0.60354223, 0.60408719,\n",
       "        0.59972752, 0.60463215, 0.60326975, 0.60027248, 0.60354223,\n",
       "        0.60354223, 0.60217984, 0.60435967, 0.60435967, 0.60299728,\n",
       "        0.60572207, 0.60081744, 0.60054496, 0.59945504, 0.60081744,\n",
       "        0.59972752, 0.6       , 0.60027248, 0.59945504]),\n",
       " 'split2_test_score': array([0.74659401, 0.74059946, 0.69100817, 0.70108992, 0.67629428,\n",
       "        0.68501362, 0.65831063, 0.66594005, 0.65613079, 0.6599455 ,\n",
       "        0.64523161, 0.64986376, 0.63705722, 0.6400545 , 0.63160763,\n",
       "        0.63297003, 0.62425068, 0.63160763, 0.6239782 , 0.62888283,\n",
       "        0.61961853, 0.62942779, 0.62234332, 0.62152589, 0.62370572,\n",
       "        0.62561308, 0.61689373, 0.62425068, 0.61852861, 0.626703  ,\n",
       "        0.62043597, 0.62452316, 0.61743869, 0.62234332, 0.62043597,\n",
       "        0.62288828, 0.61798365, 0.62125341, 0.61743869, 0.62098093,\n",
       "        0.61743869, 0.62098093, 0.61307902, 0.61716621, 0.61416894,\n",
       "        0.61662125, 0.61008174, 0.61553134, 0.6133515 , 0.61880109,\n",
       "        0.61907357, 0.61689373, 0.6133515 , 0.61662125, 0.6147139 ,\n",
       "        0.61907357, 0.61444142, 0.61634877, 0.61416894, 0.61498638,\n",
       "        0.61389646, 0.61743869, 0.61307902, 0.61444142, 0.61226158,\n",
       "        0.6119891 , 0.61008174, 0.60844687, 0.60953678, 0.60817439,\n",
       "        0.60844687, 0.61035422, 0.61117166, 0.61144414, 0.6119891 ,\n",
       "        0.61171662, 0.61144414, 0.61307902, 0.6106267 , 0.61253406,\n",
       "        0.60899183, 0.61580381, 0.61171662, 0.61553134, 0.61226158,\n",
       "        0.61444142, 0.61362398, 0.61580381, 0.61416894, 0.61389646,\n",
       "        0.61307902, 0.61525886, 0.61226158, 0.61226158, 0.61035422,\n",
       "        0.61307902, 0.61171662, 0.6119891 , 0.61389646]),\n",
       " 'split3_test_score': array([0.74604905, 0.73324251, 0.69455041, 0.69700272, 0.67356948,\n",
       "        0.68310627, 0.65776567, 0.65940054, 0.64904632, 0.65149864,\n",
       "        0.64332425, 0.64277929, 0.63160763, 0.63188011, 0.62234332,\n",
       "        0.62643052, 0.61798365, 0.62152589, 0.62179837, 0.62452316,\n",
       "        0.61634877, 0.61798365, 0.60953678, 0.61035422, 0.61226158,\n",
       "        0.6119891 , 0.60572207, 0.60517711, 0.60190736, 0.60408719,\n",
       "        0.59972752, 0.60326975, 0.60108992, 0.60081744, 0.59591281,\n",
       "        0.60081744, 0.59918256, 0.60190736, 0.59618529, 0.6       ,\n",
       "        0.5986376 , 0.60081744, 0.59891008, 0.60408719, 0.59945504,\n",
       "        0.60245232, 0.59945504, 0.60217984, 0.60108992, 0.60217984,\n",
       "        0.60245232, 0.60299728, 0.59972752, 0.59918256, 0.59945504,\n",
       "        0.59809264, 0.6       , 0.60572207, 0.60190736, 0.60190736,\n",
       "        0.59945504, 0.60027248, 0.59673025, 0.5972752 , 0.59836512,\n",
       "        0.59972752, 0.59645777, 0.59591281, 0.59591281, 0.59618529,\n",
       "        0.59536785, 0.59700272, 0.59564033, 0.59782016, 0.59645777,\n",
       "        0.59891008, 0.5972752 , 0.59645777, 0.5972752 , 0.59754768,\n",
       "        0.59564033, 0.59455041, 0.59427793, 0.59645777, 0.59564033,\n",
       "        0.59700272, 0.59427793, 0.59564033, 0.59373297, 0.59564033,\n",
       "        0.59645777, 0.5972752 , 0.59618529, 0.59754768, 0.59645777,\n",
       "        0.59591281, 0.59346049, 0.59400545, 0.59128065]),\n",
       " 'split4_test_score': array([0.73051771, 0.72561308, 0.68501362, 0.69645777, 0.66021798,\n",
       "        0.66866485, 0.6520436 , 0.65694823, 0.65040872, 0.64904632,\n",
       "        0.63487738, 0.63787466, 0.63297003, 0.63787466, 0.63160763,\n",
       "        0.63542234, 0.62343324, 0.62724796, 0.61498638, 0.62643052,\n",
       "        0.61525886, 0.62370572, 0.61607629, 0.61553134, 0.6133515 ,\n",
       "        0.61362398, 0.60735695, 0.61798365, 0.61253406, 0.61226158,\n",
       "        0.60544959, 0.60626703, 0.60299728, 0.60544959, 0.60299728,\n",
       "        0.61035422, 0.60926431, 0.6119891 , 0.60735695, 0.60980926,\n",
       "        0.60953678, 0.61117166, 0.60735695, 0.60871935, 0.60435967,\n",
       "        0.60817439, 0.60544959, 0.60626703, 0.60544959, 0.60735695,\n",
       "        0.60081744, 0.60408719, 0.60190736, 0.60245232, 0.59972752,\n",
       "        0.60463215, 0.60054496, 0.60544959, 0.60054496, 0.60544959,\n",
       "        0.60081744, 0.60681199, 0.6027248 , 0.60435967, 0.60326975,\n",
       "        0.6027248 , 0.60435967, 0.60299728, 0.60163488, 0.60245232,\n",
       "        0.59673025, 0.59700272, 0.59836512, 0.60217984, 0.59754768,\n",
       "        0.60245232, 0.6013624 , 0.60381471, 0.60027248, 0.60245232,\n",
       "        0.6013624 , 0.60354223, 0.60108992, 0.60081744, 0.60027248,\n",
       "        0.60190736, 0.60054496, 0.6027248 , 0.59972752, 0.60408719,\n",
       "        0.6027248 , 0.60299728, 0.6013624 , 0.60190736, 0.60054496,\n",
       "        0.60217984, 0.60081744, 0.6027248 , 0.60299728]),\n",
       " 'mean_test_score': array([0.74034084, 0.72693602, 0.68955347, 0.69516682, 0.66993628,\n",
       "        0.67745639, 0.65495079, 0.65991001, 0.64922933, 0.65146335,\n",
       "        0.64023779, 0.64219968, 0.63108339, 0.6330451 , 0.62476194,\n",
       "        0.62901242, 0.61974847, 0.62459842, 0.61865868, 0.62492536,\n",
       "        0.61626089, 0.62198268, 0.614844  , 0.6158792 , 0.61489848,\n",
       "        0.61707811, 0.61064784, 0.61533443, 0.6106479 , 0.6147349 ,\n",
       "        0.60988505, 0.61260961, 0.60857713, 0.61141081, 0.60868599,\n",
       "        0.61326342, 0.61021196, 0.61217379, 0.6077054 , 0.61086602,\n",
       "        0.60857726, 0.6108114 , 0.60835909, 0.6106479 , 0.60716045,\n",
       "        0.61021195, 0.6062339 , 0.60868612, 0.60666988, 0.60955795,\n",
       "        0.60825011, 0.60917629, 0.60650611, 0.60737803, 0.60552537,\n",
       "        0.60770511, 0.6054164 , 0.60988477, 0.60683305, 0.60852235,\n",
       "        0.60677857, 0.61032057, 0.60585216, 0.60748681, 0.60601563,\n",
       "        0.60781376, 0.60634259, 0.60617898, 0.60438089, 0.60541616,\n",
       "        0.60367235, 0.60525269, 0.60448976, 0.60650606, 0.60536166,\n",
       "        0.60705101, 0.60683292, 0.60781377, 0.6055795 , 0.6063425 ,\n",
       "        0.60421715, 0.60672397, 0.60487117, 0.60590646, 0.60525261,\n",
       "        0.60645148, 0.60487119, 0.60677845, 0.60519815, 0.60661491,\n",
       "        0.60623361, 0.60590664, 0.60465325, 0.60541603, 0.60432624,\n",
       "        0.60438087, 0.60345443, 0.60427181, 0.603509  ]),\n",
       " 'std_test_score': array([0.00706949, 0.00984922, 0.0045606 , 0.00417249, 0.00545173,\n",
       "        0.00593425, 0.00257928, 0.00557715, 0.00457495, 0.00442805,\n",
       "        0.00392866, 0.00499994, 0.00595749, 0.00610173, 0.00573212,\n",
       "        0.00471338, 0.00344119, 0.00444527, 0.00405169, 0.00300608,\n",
       "        0.00231458, 0.00430723, 0.00429588, 0.00356743, 0.00442297,\n",
       "        0.00471018, 0.00391082, 0.00624279, 0.00536847, 0.00727408,\n",
       "        0.00714417, 0.00745206, 0.00594497, 0.00771177, 0.00843929,\n",
       "        0.00738143, 0.0063034 , 0.00625605, 0.00703108, 0.00698317,\n",
       "        0.0060403 , 0.0063819 , 0.00508868, 0.00428911, 0.00531834,\n",
       "        0.00477355, 0.00369566, 0.00440949, 0.00398258, 0.00550322,\n",
       "        0.00649508, 0.00573088, 0.00563035, 0.00654673, 0.00584874,\n",
       "        0.00705598, 0.00554848, 0.00462392, 0.00581433, 0.00536789,\n",
       "        0.00601541, 0.00658359, 0.00631205, 0.00724798, 0.00575472,\n",
       "        0.00638602, 0.00578384, 0.00652788, 0.0054086 , 0.00580003,\n",
       "        0.00661381, 0.00688592, 0.00680327, 0.00585566, 0.00712423,\n",
       "        0.00563496, 0.00673357, 0.00724575, 0.00691577, 0.00651836,\n",
       "        0.00705564, 0.00793914, 0.00720145, 0.00837605, 0.00715016,\n",
       "        0.00723406, 0.00765837, 0.00776535, 0.00800072, 0.00761226,\n",
       "        0.00637674, 0.00706111, 0.00671577, 0.00730353, 0.00645332,\n",
       "        0.00659917, 0.00704601, 0.00705518, 0.00793942]),\n",
       " 'rank_test_score': array([ 1,  2,  4,  3,  6,  5,  8,  7, 10,  9, 12, 11, 14, 13, 17, 15, 20,\n",
       "        18, 21, 16, 23, 19, 27, 24, 26, 22, 37, 25, 35, 28, 41, 30, 48, 32,\n",
       "        46, 29, 39, 31, 54, 33, 47, 34, 50, 35, 58, 40, 72, 45, 65, 43, 51,\n",
       "        44, 67, 57, 80, 55, 81, 42, 60, 49, 62, 38, 78, 56, 75, 53, 70, 74,\n",
       "        92, 82, 97, 85, 91, 68, 84, 59, 61, 52, 79, 71, 96, 64, 89, 77, 86,\n",
       "        69, 88, 63, 87, 66, 73, 76, 90, 83, 94, 93, 99, 95, 98],\n",
       "       dtype=int32)}"
      ]
     },
     "execution_count": 78,
     "metadata": {},
     "output_type": "execute_result"
    }
   ],
   "source": [
    "# view the complete results\n",
    "grid.cv_results_"
   ]
  },
  {
   "cell_type": "code",
   "execution_count": null,
   "id": "e00854c1",
   "metadata": {},
   "outputs": [],
   "source": []
  },
  {
   "cell_type": "code",
   "execution_count": 79,
   "id": "baa02cc1",
   "metadata": {},
   "outputs": [
    {
     "name": "stdout",
     "output_type": "stream",
     "text": [
      "Best params:  {'n_neighbors': 1}\n",
      "Best estimator:  KNeighborsClassifier(n_neighbors=1)\n",
      "Best score:  0.7403408406859271\n"
     ]
    }
   ],
   "source": [
    "# examine the best model\n",
    "print(\"Best params: \", grid.best_params_)\n",
    "print(\"Best estimator: \", grid.best_estimator_)\n",
    "print(\"Best score: \", grid.best_score_)\n"
   ]
  },
  {
   "cell_type": "code",
   "execution_count": 80,
   "id": "3a033186",
   "metadata": {},
   "outputs": [
    {
     "name": "stdout",
     "output_type": "stream",
     "text": [
      "0.9980927469892649\n",
      "0.7670444638186573\n",
      "0.7567567567567568\n"
     ]
    }
   ],
   "source": [
    "# train your model using all data and the best known parameters\n",
    "knn = KNeighborsClassifier(n_neighbors= 1)\n",
    "knn.fit(X_train, y_train)\n",
    "\n",
    "print(knn.score(X_train, y_train))\n",
    "print(knn.score(X_test, y_test))\n",
    "print(knn.score(X_val, y_val))\n",
    "\n",
    "pre=knn.predict(X_test)\n",
    "pre2=knn.predict(X_train)"
   ]
  },
  {
   "cell_type": "code",
   "execution_count": 81,
   "id": "5958afc9",
   "metadata": {},
   "outputs": [
    {
     "name": "stdout",
     "output_type": "stream",
     "text": [
      "Training Scores\n",
      "\n",
      "\n",
      "precision : 0.9980387884070604\n",
      "recall    : 0.9981475427699684\n",
      "f1        : 0.9980931626259875\n",
      "AUC score : 0.9980927380298502\n",
      "\n",
      "\n",
      "              precision    recall  f1-score   support\n",
      "\n",
      "           0       1.00      1.00      1.00      9174\n",
      "           1       1.00      1.00      1.00      9177\n",
      "\n",
      "    accuracy                           1.00     18351\n",
      "   macro avg       1.00      1.00      1.00     18351\n",
      "weighted avg       1.00      1.00      1.00     18351\n",
      "\n",
      "Testing Scores\n",
      "\n",
      "\n",
      "precision : 0.7031877846236271\n",
      "recall    : 0.9200841219768665\n",
      "f1        : 0.7971454600668083\n",
      "AUC score : 0.7678144412798975\n",
      "\n",
      "\n",
      "              precision    recall  f1-score   support\n",
      "\n",
      "           0       0.89      0.62      0.73      2882\n",
      "           1       0.70      0.92      0.80      2853\n",
      "\n",
      "    accuracy                           0.77      5735\n",
      "   macro avg       0.79      0.77      0.76      5735\n",
      "weighted avg       0.80      0.77      0.76      5735\n",
      "\n"
     ]
    },
    {
     "data": {
      "image/png": "[encoded data removed]",
      "text/plain": [
       "<Figure size 432x288 with 2 Axes>"
      ]
     },
     "metadata": {},
     "output_type": "display_data"
    },
    {
     "name": "stdout",
     "output_type": "stream",
     "text": [
      "_________________________________________________________________________________\n"
     ]
    },
    {
     "data": {
      "text/plain": [
       "<sklearn.metrics._plot.roc_curve.RocCurveDisplay at 0x7fcc96a48070>"
      ]
     },
     "execution_count": 81,
     "metadata": {},
     "output_type": "execute_result"
    },
    {
     "data": {
      "image/png": "[encoded data removed]",
      "text/plain": [
       "<Figure size 432x288 with 1 Axes>"
      ]
     },
     "metadata": {},
     "output_type": "display_data"
    }
   ],
   "source": [
    "from sklearn.metrics import classification_report,confusion_matrix,roc_curve,precision_score,\\\n",
    "                            recall_score, accuracy_score,roc_auc_score, f1_score, plot_roc_curve\n",
    "\n",
    "\n",
    "print('Training Scores')\n",
    "print('\\n')\n",
    "print(\"precision :\",precision_score(y_train,pre2))\n",
    "print(\"recall    :\",recall_score(y_train,pre2))\n",
    "print(\"f1        :\",f1_score(y_train,pre2))\n",
    "print(\"AUC score :\",metrics.roc_auc_score(y_train, pre2, average=None))\n",
    "print('\\n')\n",
    "print(classification_report(y_train,pre2))\n",
    "\n",
    "\n",
    "\n",
    "\n",
    "print('Testing Scores')\n",
    "print('\\n')\n",
    "print(\"precision :\",precision_score(y_test,pre))\n",
    "print(\"recall    :\",recall_score(y_test,pre))\n",
    "print(\"f1        :\",f1_score(y_test,pre))\n",
    "print(\"AUC score :\",metrics.roc_auc_score(y_test, pre, average=None))\n",
    "print('\\n')\n",
    "print(classification_report(y_test,pre))\n",
    "\n",
    "cnf_matrix = confusion_matrix(y_test, pre)\n",
    "sns.heatmap(cnf_matrix,cmap=\"Wistia_r\", annot_kws={\"size\": 15},annot=True,linewidths=0.5, fmt='g')\n",
    "plt.title(\"Confusion_matrix\")\n",
    "plt.xlabel(\"Predicted_class\")\n",
    "plt.ylabel(\"Real class\")\n",
    "plt.show()\n",
    "print('_________________________________________________________________________________')\n",
    "metrics.plot_roc_curve(knn , X_test, y_test)\n",
    "\n"
   ]
  },
  {
   "cell_type": "markdown",
   "id": "fb3c7355",
   "metadata": {},
   "source": [
    "<a id='tree'></a>\n",
    "## Decision Tree"
   ]
  },
  {
   "cell_type": "code",
   "execution_count": 82,
   "id": "4e7e7cb6",
   "metadata": {},
   "outputs": [],
   "source": [
    "# Dividing the data into train and test\n",
    "#from sklearn.model_selection import train_test_split\n",
    "#x_train,x_test,y_train,y_test = train_test_split(x,y,test_size = 0.20 ,random_state = 2, stratify =y)\n"
   ]
  },
  {
   "cell_type": "markdown",
   "id": "b422ff29",
   "metadata": {},
   "source": [
    "## Tuning the parameters to find the best decision tree model"
   ]
  },
  {
   "cell_type": "code",
   "execution_count": 83,
   "id": "2f82b8e4",
   "metadata": {},
   "outputs": [
    {
     "name": "stdout",
     "output_type": "stream",
     "text": [
      "Best Parameters using grid search:- \n",
      " {'max_depth': 9, 'min_samples_leaf': 2}\n"
     ]
    }
   ],
   "source": [
    "model = DecisionTreeClassifier(criterion='gini',random_state = 100,class_weight='balanced')\n",
    "\n",
    "parameter_dist = {'max_depth': [2, 3, 4,5,6,7,8,9], 'min_samples_leaf' : [2,3,4,5,6,7,8]}\n",
    "\n",
    "from sklearn.model_selection import GridSearchCV\n",
    "cv_dt = GridSearchCV(model, cv = 3,param_grid=parameter_dist, n_jobs = -1)\n",
    "\n",
    "cv_dt.fit(X_train, y_train)\n",
    "print('Best Parameters using grid search:- \\n', cv_dt.best_params_)"
   ]
  },
  {
   "cell_type": "code",
   "execution_count": 84,
   "id": "99af1d95",
   "metadata": {},
   "outputs": [
    {
     "data": {
      "text/plain": [
       "DecisionTreeClassifier(class_weight='balanced', max_depth=9, min_samples_leaf=5,\n",
       "                       random_state=100)"
      ]
     },
     "execution_count": 84,
     "metadata": {},
     "output_type": "execute_result"
    }
   ],
   "source": [
    "from sklearn.tree import DecisionTreeClassifier\n",
    "DT = DecisionTreeClassifier(criterion='gini',random_state = 100,max_depth=9,class_weight='balanced', min_samples_leaf=5)\n",
    "\n",
    "DT.fit(X_train, y_train)"
   ]
  },
  {
   "cell_type": "code",
   "execution_count": 85,
   "id": "d0250b21",
   "metadata": {},
   "outputs": [
    {
     "name": "stdout",
     "output_type": "stream",
     "text": [
      "0.80871839581517\n",
      "0.8018744551002616\n",
      "0.8195193722412948\n",
      "Accuracy Score:(training)  0.8195193722412948\n",
      "Accuracy Score:(testing)  0.80871839581517\n",
      "\n",
      "\n",
      "precision : 0.8239852398523986\n",
      "recall    : 0.7826848930949877\n",
      "f1        : 0.8028042423152975\n",
      "AUC score : 0.8085874153191801\n",
      "\n",
      "\n",
      "Classification Report (Training)\n",
      "              precision    recall  f1-score   support\n",
      "\n",
      "           0       0.81      0.84      0.82      9174\n",
      "           1       0.83      0.80      0.82      9177\n",
      "\n",
      "    accuracy                           0.82     18351\n",
      "   macro avg       0.82      0.82      0.82     18351\n",
      "weighted avg       0.82      0.82      0.82     18351\n",
      "\n",
      "________________________________\n",
      "Classification Report (Testing)\n",
      "              precision    recall  f1-score   support\n",
      "\n",
      "           0       0.80      0.83      0.81      2882\n",
      "           1       0.82      0.78      0.80      2853\n",
      "\n",
      "    accuracy                           0.81      5735\n",
      "   macro avg       0.81      0.81      0.81      5735\n",
      "weighted avg       0.81      0.81      0.81      5735\n",
      "\n"
     ]
    },
    {
     "data": {
      "image/png": "[encoded data removed]",
      "text/plain": [
       "<Figure size 432x288 with 2 Axes>"
      ]
     },
     "metadata": {},
     "output_type": "display_data"
    },
    {
     "name": "stdout",
     "output_type": "stream",
     "text": [
      "_________________________________________________________________________________\n"
     ]
    },
    {
     "data": {
      "image/png": "[encoded data removed]",
      "text/plain": [
       "<Figure size 432x288 with 1 Axes>"
      ]
     },
     "metadata": {},
     "output_type": "display_data"
    }
   ],
   "source": [
    "from sklearn.metrics import precision_score, recall_score, f1_score, roc_auc_score, accuracy_score, classification_report\n",
    "\n",
    "DTPred = DT.predict(X_test)\n",
    "DTPred2 = DT.predict(X_train)\n",
    "print(DT.score(X_test,y_test))\n",
    "print(DT.score(X_val,y_val))\n",
    "print(DT.score(X_train,y_train))\n",
    "print('Accuracy Score:(training) ',accuracy_score(y_train, DTPred2))\n",
    "print('Accuracy Score:(testing) ',accuracy_score(y_test, DTPred))\n",
    "print('\\n')\n",
    "print(\"precision :\",precision_score(y_test,DTPred))\n",
    "print(\"recall    :\",recall_score(y_test,DTPred))\n",
    "print(\"f1        :\",f1_score(y_test,DTPred))\n",
    "print(\"AUC score :\",metrics.roc_auc_score(y_test, DTPred, average=None))\n",
    "print('\\n')\n",
    "print('Classification Report (Training)')\n",
    "print(classification_report(y_train, DTPred2))\n",
    "print('________________________________')\n",
    "\n",
    "print('Classification Report (Testing)')\n",
    "print(classification_report(y_test, DTPred))\n",
    "\n",
    "cnf_matrix = confusion_matrix(y_test, DTPred)\n",
    "sns.heatmap(cnf_matrix,cmap=\"Wistia_r\", annot_kws={\"size\": 15},annot=True,linewidths=0.5, fmt='g')\n",
    "plt.title(\"Confusion_matrix\")\n",
    "plt.xlabel(\"Predicted_class\")\n",
    "plt.ylabel(\"Real class\")\n",
    "plt.savefig(\"DecisionTree.png\")\n",
    "plt.show()\n",
    "print('_________________________________________________________________________________')\n",
    "metrics.plot_roc_curve(DT, X_test, y_test)\n",
    "plt.savefig(\"DecisionTree1.png\")\n"
   ]
  },
  {
   "cell_type": "markdown",
   "id": "9a617d28",
   "metadata": {},
   "source": [
    "<a id='rf'></a>\n",
    "## Random Forst"
   ]
  },
  {
   "cell_type": "code",
   "execution_count": 86,
   "id": "e7312539",
   "metadata": {},
   "outputs": [],
   "source": [
    "from sklearn.ensemble import RandomForestClassifier"
   ]
  },
  {
   "cell_type": "code",
   "execution_count": 87,
   "id": "acd6c340",
   "metadata": {},
   "outputs": [
    {
     "name": "stdout",
     "output_type": "stream",
     "text": [
      "Training Results:\n",
      "\n",
      "              precision    recall  f1-score   support\n",
      "\n",
      "           0       0.89      0.90      0.89      9174\n",
      "           1       0.90      0.88      0.89      9177\n",
      "\n",
      "    accuracy                           0.89     18351\n",
      "   macro avg       0.89      0.89      0.89     18351\n",
      "weighted avg       0.89      0.89      0.89     18351\n",
      "\n",
      "\n",
      "\n",
      "Testing Results:\n",
      "\n",
      "              precision    recall  f1-score   support\n",
      "\n",
      "           0       0.83      0.85      0.84      2882\n",
      "           1       0.84      0.82      0.83      2853\n",
      "\n",
      "    accuracy                           0.84      5735\n",
      "   macro avg       0.84      0.84      0.84      5735\n",
      "weighted avg       0.84      0.84      0.84      5735\n",
      "\n"
     ]
    },
    {
     "data": {
      "image/png": "[encoded data removed]",
      "text/plain": [
       "<Figure size 432x288 with 2 Axes>"
      ]
     },
     "metadata": {},
     "output_type": "display_data"
    },
    {
     "name": "stdout",
     "output_type": "stream",
     "text": [
      "_________________________________________________________________________________\n"
     ]
    },
    {
     "data": {
      "text/plain": [
       "<sklearn.metrics._plot.roc_curve.RocCurveDisplay at 0x7fcb8525de80>"
      ]
     },
     "execution_count": 87,
     "metadata": {},
     "output_type": "execute_result"
    },
    {
     "data": {
      "image/png": "[encoded data removed]",
      "text/plain": [
       "<Figure size 432x288 with 1 Axes>"
      ]
     },
     "metadata": {},
     "output_type": "display_data"
    }
   ],
   "source": [
    "forest = RandomForestClassifier()\n",
    "param_grid = {'n_estimators':[300,500,1000], 'class_weight' :['balanced'],'max_depth':[5,10,15] }\n",
    "forest_cv =  GridSearchCV(forest, param_grid, cv=5)\n",
    "forest_cv.fit(X_train, y_train)\n",
    "ypred_tr = forest_cv.predict(X_train)\n",
    "ypred_ts = forest_cv.predict(X_test)\n",
    "print(\"Training Results:\\n\")\n",
    "print(classification_report(y_train, ypred_tr))\n",
    "print(\"\\n\\nTesting Results:\\n\")\n",
    "print(classification_report(y_test, ypred_ts))\n",
    "cnf_matrix = confusion_matrix(y_test, ypred_ts)\n",
    "sns.heatmap(cnf_matrix,cmap=\"Wistia_r\", annot_kws={\"size\": 15},annot=True,linewidths=0.5, fmt='g')\n",
    "plt.title(\"Confusion_matrix\")\n",
    "plt.xlabel(\"Predicted_class\")\n",
    "plt.ylabel(\"Real class\")\n",
    "plt.savefig(\"RandomForest.png\")\n",
    "plt.show()\n",
    "print('_________________________________________________________________________________')\n",
    "metrics.plot_roc_curve(forest_cv, X_test, y_test)"
   ]
  },
  {
   "cell_type": "markdown",
   "id": "e9f01ad8",
   "metadata": {},
   "source": [
    "<a id='xgboost'></a>\n",
    "## xgboost Model"
   ]
  },
  {
   "cell_type": "code",
   "execution_count": null,
   "id": "c67b7798",
   "metadata": {},
   "outputs": [],
   "source": [
    "import xgboost as xgb\n",
    "from sklearn.calibration import CalibratedClassifierCV\n",
    "from sklearn.model_selection import StratifiedKFold\n",
    "parameters = {'nthread':[4], \n",
    "              'objective':['binary:logistic'],\n",
    "              'learning_rate': [0.1], \n",
    "              'max_depth': [5],\n",
    "              'min_child_weight': [7],\n",
    "              'silent': [1],\n",
    "              'subsample': [0.8],\n",
    "              'colsample_bytree': [0.7],\n",
    "              'n_estimators': [500], \n",
    "              'seed': [1337]}\n",
    "\n",
    "XGB = xgb.XGBClassifier()\n",
    "XGB = GridSearchCV(XGB, parameters, cv = StratifiedKFold(5, shuffle=True), \n",
    "                   scoring='roc_auc',\n",
    "                   verbose=1, refit=True)\n",
    "# XGB = CalibratedClassifierCV(XGB, method=\"sigmoid\")\n",
    "XGB.fit(X_train, y_train)\n",
    "y_pred_xgb = XGB.predict(X_test)\n",
    "cm_xgb = confusion_matrix(y_pred_xgb,y_test)\n",
    "fscore = f1_score(y_test,y_pred_xgb)\n",
    "acc_xgb = accuracy_score(y_test, y_pred_xgb)\n",
    "#result.append(acc_xgb)\n",
    "\n",
    "#Training\n",
    "\n",
    "y_pred_xgb2 = XGB.predict(X_train)\n",
    "cm_xgb2 = confusion_matrix(y_pred_xgb2,y_train)\n",
    "fscore2 = f1_score(y_train,y_pred_xgb2)\n",
    "acc_xgb2 = accuracy_score(y_train, y_pred_xgb2)\n",
    "\n",
    "\n",
    "\n",
    "print(XGB.score(X_train , y_train))\n",
    "print(XGB.score(X_val , y_val))\n",
    "print (forest_cv.score(X_test , y_test))\n",
    "\n"
   ]
  },
  {
   "cell_type": "code",
   "execution_count": null,
   "id": "87cb40ce",
   "metadata": {},
   "outputs": [],
   "source": []
  },
  {
   "cell_type": "code",
   "execution_count": null,
   "id": "4b48c0cd",
   "metadata": {
    "scrolled": true
   },
   "outputs": [],
   "source": [
    "print(\"RESULTS (Training): \")\n",
    "print(\"XGBoost Model Accuracy : \",round(acc_xgb2,2))\n",
    "print(\"XGBoost Model F1-score : \",round(fscore2,2))\n",
    "print(\"Classification Report :\\n\",classification_report(y_train,y_pred_xgb2))\n",
    "\n",
    "print('-------------------------------')\n",
    "print(\"RESULTS (Testing): \")\n",
    "print(\"XGBoost Model Accuracy : \",round(acc_xgb,2))\n",
    "print(\"XGBoost Model F1-score : \",round(fscore,2))\n",
    "print(\"Classification Report :\\n\",classification_report(y_test,y_pred_xgb))\n",
    "\n",
    "\n"
   ]
  },
  {
   "cell_type": "code",
   "execution_count": null,
   "id": "64a6be83",
   "metadata": {},
   "outputs": [],
   "source": [
    "\n",
    "\n",
    "print('\\n')\n",
    "print(\"precision :\",precision_score(y_test,y_pred_xgb))\n",
    "print(\"recall    :\",recall_score(y_test,y_pred_xgb))\n",
    "print(\"f1        :\",f1_score(y_test,y_pred_xgb))\n",
    "print(\"AUC score :\",metrics.roc_auc_score(y_test, y_pred_xgb, average=None))\n",
    "print('\\n')\n",
    "print(classification_report(y_test,y_pred_xgb))\n",
    "\n",
    "cnf_matrix = confusion_matrix(y_test, y_pred_xgb)\n",
    "sns.heatmap(cnf_matrix,cmap=\"Wistia_r\", annot_kws={\"size\": 15},annot=True,linewidths=0.5, fmt='g')\n",
    "plt.title(\"Confusion_matrix\")\n",
    "plt.xlabel(\"Predicted_class\")\n",
    "plt.ylabel(\"Real class\")\n",
    "plt.savefig(\"xgb.png\")\n",
    "plt.show()\n",
    "print('_________________________________________________________________________________')\n",
    "metrics.plot_roc_curve(XGB, X_test, y_test)\n",
    "plt.savefig(\"xgb.png\")"
   ]
  },
  {
   "cell_type": "markdown",
   "id": "73902744",
   "metadata": {},
   "source": [
    "\n",
    "<a id='SVC Model'></a>\n",
    "## SVC Model"
   ]
  },
  {
   "cell_type": "code",
   "execution_count": 89,
   "id": "e689f223",
   "metadata": {},
   "outputs": [
    {
     "name": "stdout",
     "output_type": "stream",
     "text": [
      "The history saving thread hit an unexpected error (OperationalError('database or disk is full')).History will not be written to the database.\n",
      "0.5780611410822298\n",
      "0.5769398430688754\n",
      "0.5792502179598954\n",
      "Training Report\n",
      "              precision    recall  f1-score   support\n",
      "\n",
      "           0       0.58      0.58      0.58      9174\n",
      "           1       0.58      0.57      0.58      9177\n",
      "\n",
      "    accuracy                           0.58     18351\n",
      "   macro avg       0.58      0.58      0.58     18351\n",
      "weighted avg       0.58      0.58      0.58     18351\n",
      "\n",
      "\n",
      "\n",
      "\n",
      "\n",
      "Testing Report\n",
      "              precision    recall  f1-score   support\n",
      "\n",
      "           0       0.58      0.59      0.58      2882\n",
      "           1       0.58      0.57      0.57      2853\n",
      "\n",
      "    accuracy                           0.58      5735\n",
      "   macro avg       0.58      0.58      0.58      5735\n",
      "weighted avg       0.58      0.58      0.58      5735\n",
      "\n"
     ]
    }
   ],
   "source": [
    "from sklearn.pipeline import Pipeline\n",
    "from sklearn.pipeline import make_pipeline\n",
    "from sklearn.preprocessing import StandardScaler\n",
    "\n",
    "pipeline = make_pipeline(StandardScaler(), SVC(kernel='sigmoid'))\n",
    "pipeline.fit(X_train, y_train)\n",
    "\n",
    "svc_prediction = pipeline.predict(X_test)\n",
    "svc_prediction2 = pipeline.predict(X_train\n",
    "                                  )\n",
    "cm_svc = confusion_matrix(y_test, svc_prediction)\n",
    "svc_df = pd.DataFrame(data=[accuracy_score(y_test, svc_prediction), recall_score(y_test, svc_prediction),\n",
    "                   precision_score(y_test, svc_prediction), roc_auc_score(y_test, svc_prediction)], \n",
    "             columns=['SVC Score'],\n",
    "             index=[\"Accuracy\", \"Recall\", \"Precision\", \"ROC AUC Score\"])\n",
    "\n",
    "\n",
    "\n",
    "print(pipeline.score(X_train , y_train))\n",
    "print(pipeline.score(X_val , y_val))\n",
    "print (pipeline.score(X_test , y_test))\n",
    "print(\"Training Report\")\n",
    "print(classification_report(y_train,svc_prediction2))\n",
    "print(\"\\n\")\n",
    "print(\"\\n\")\n",
    "print(\"Testing Report\")\n",
    "print(classification_report(y_test,svc_prediction))\n",
    "\n"
   ]
  },
  {
   "cell_type": "code",
   "execution_count": 90,
   "id": "ab4f2834",
   "metadata": {},
   "outputs": [
    {
     "data": {
      "image/png": "[encoded data removed]",
      "text/plain": [
       "<Figure size 432x288 with 2 Axes>"
      ]
     },
     "metadata": {},
     "output_type": "display_data"
    },
    {
     "name": "stdout",
     "output_type": "stream",
     "text": [
      "_________________________________________________________________________________\n"
     ]
    },
    {
     "data": {
      "image/png": "[encoded data removed]",
      "text/plain": [
       "<Figure size 432x288 with 1 Axes>"
      ]
     },
     "metadata": {},
     "output_type": "display_data"
    }
   ],
   "source": [
    "cnf_matrix = confusion_matrix(y_test, svc_prediction)\n",
    "sns.heatmap(cnf_matrix,cmap=\"Wistia_r\", annot_kws={\"size\": 15},annot=True,linewidths=0.5, fmt='g')\n",
    "plt.title(\"Confusion_matrix\")\n",
    "plt.xlabel(\"Predicted_class\")\n",
    "plt.ylabel(\"Real class\")\n",
    "plt.savefig(\"SVC.png\")\n",
    "plt.show()\n",
    "print('_________________________________________________________________________________')\n",
    "metrics.plot_roc_curve(pipeline, X_test, y_test)\n",
    "plt.savefig(\"SVC.png\")"
   ]
  },
  {
   "cell_type": "markdown",
   "id": "03222286",
   "metadata": {},
   "source": [
    "<a id='GradientBoostingClassifier'></a>\n",
    "## GradientBoostingClassifier"
   ]
  },
  {
   "cell_type": "code",
   "execution_count": 91,
   "id": "3acf82fa",
   "metadata": {},
   "outputs": [
    {
     "name": "stdout",
     "output_type": "stream",
     "text": [
      "0.8402811835867255\n",
      "0.8304272013949433\n",
      "0.834001743679163\n",
      "Training Report\n",
      "              precision    recall  f1-score   support\n",
      "\n",
      "           0       0.83      0.85      0.84      9174\n",
      "           1       0.85      0.83      0.84      9177\n",
      "\n",
      "    accuracy                           0.84     18351\n",
      "   macro avg       0.84      0.84      0.84     18351\n",
      "weighted avg       0.84      0.84      0.84     18351\n",
      "\n",
      "\n",
      "\n",
      "\n",
      "\n",
      "Testing Report\n",
      "              precision    recall  f1-score   support\n",
      "\n",
      "           0       0.82      0.85      0.84      2882\n",
      "           1       0.84      0.82      0.83      2853\n",
      "\n",
      "    accuracy                           0.83      5735\n",
      "   macro avg       0.83      0.83      0.83      5735\n",
      "weighted avg       0.83      0.83      0.83      5735\n",
      "\n"
     ]
    },
    {
     "data": {
      "image/png": "[encoded data removed]",
      "text/plain": [
       "<Figure size 432x288 with 2 Axes>"
      ]
     },
     "metadata": {},
     "output_type": "display_data"
    },
    {
     "name": "stdout",
     "output_type": "stream",
     "text": [
      "_________________________________________________________________________________\n"
     ]
    },
    {
     "data": {
      "image/png": "[encoded data removed]",
      "text/plain": [
       "<Figure size 432x288 with 1 Axes>"
      ]
     },
     "metadata": {},
     "output_type": "display_data"
    }
   ],
   "source": [
    "from sklearn.ensemble import GradientBoostingClassifier\n",
    "gb = GradientBoostingClassifier(random_state=123)\n",
    "gb.fit(X_train,y_train)\n",
    "gbpre = gb.predict(X_test)\n",
    "gbpre2 = gb.predict(X_train)\n",
    "\n",
    "print(gb.score(X_train , y_train))\n",
    "print(gb.score(X_val , y_val))\n",
    "print (gb.score(X_test , y_test))\n",
    "\n",
    "print(\"Training Report\")\n",
    "print(classification_report(y_train,gbpre2))\n",
    "print(\"\\n\")\n",
    "print(\"\\n\")\n",
    "print(\"Testing Report\")\n",
    "print(classification_report(y_test,gbpre))\n",
    "\n",
    "cnf_matrix = confusion_matrix(y_test, gbpre)\n",
    "sns.heatmap(cnf_matrix,cmap=\"Wistia_r\", annot_kws={\"size\": 15},annot=True,linewidths=0.5, fmt='g')\n",
    "plt.title(\"Confusion_matrix\")\n",
    "plt.xlabel(\"Predicted_class\")\n",
    "plt.ylabel(\"Real class\")\n",
    "plt.savefig(\"pipeline.png\")\n",
    "plt.show()\n",
    "print('_________________________________________________________________________________')\n",
    "metrics.plot_roc_curve(gb, X_test, y_test)\n",
    "plt.savefig(\"pipeline.png\")\n"
   ]
  },
  {
   "cell_type": "markdown",
   "id": "34ff436c",
   "metadata": {},
   "source": [
    "<a id='AdaBoostClassifier'></a>\n",
    "## AdaBoostClassifier"
   ]
  },
  {
   "cell_type": "code",
   "execution_count": 92,
   "id": "9b6da288",
   "metadata": {},
   "outputs": [
    {
     "name": "stdout",
     "output_type": "stream",
     "text": [
      "0.8134161626069424\n",
      "0.800566695727986\n",
      "0.8136006974716652\n",
      "Training Report\n",
      "              precision    recall  f1-score   support\n",
      "\n",
      "           0       0.81      0.83      0.82      9174\n",
      "           1       0.82      0.80      0.81      9177\n",
      "\n",
      "    accuracy                           0.81     18351\n",
      "   macro avg       0.81      0.81      0.81     18351\n",
      "weighted avg       0.81      0.81      0.81     18351\n",
      "\n",
      "\n",
      "\n",
      "\n",
      "\n",
      "Testing Report\n",
      "              precision    recall  f1-score   support\n",
      "\n",
      "           0       0.80      0.83      0.82      2882\n",
      "           1       0.82      0.79      0.81      2853\n",
      "\n",
      "    accuracy                           0.81      5735\n",
      "   macro avg       0.81      0.81      0.81      5735\n",
      "weighted avg       0.81      0.81      0.81      5735\n",
      "\n"
     ]
    },
    {
     "data": {
      "image/png": "[encoded data removed]",
      "text/plain": [
       "<Figure size 432x288 with 2 Axes>"
      ]
     },
     "metadata": {},
     "output_type": "display_data"
    },
    {
     "name": "stdout",
     "output_type": "stream",
     "text": [
      "_________________________________________________________________________________\n"
     ]
    },
    {
     "data": {
      "image/png": "[encoded data removed]",
      "text/plain": [
       "<Figure size 432x288 with 1 Axes>"
      ]
     },
     "metadata": {},
     "output_type": "display_data"
    }
   ],
   "source": [
    "from sklearn.ensemble import AdaBoostClassifier\n",
    "\n",
    "\n",
    "ada = AdaBoostClassifier(random_state=123)\n",
    "ada.fit(X_train,y_train)\n",
    "adpre = ada.predict(X_test)\n",
    "adpre2 = ada.predict(X_train)\n",
    "adcm = confusion_matrix(y_test,adpre)\n",
    "\n",
    "print(ada.score(X_train , y_train))\n",
    "print(ada.score(X_val , y_val))\n",
    "print (ada.score(X_test , y_test))\n",
    "\n",
    "print(\"Training Report\")\n",
    "print(classification_report(y_train,adpre2))\n",
    "print(\"\\n\")\n",
    "print(\"\\n\")\n",
    "print(\"Testing Report\")\n",
    "print(classification_report(y_test,adpre))\n",
    "\n",
    "cnf_matrix = confusion_matrix(y_test, adpre)\n",
    "sns.heatmap(cnf_matrix,cmap=\"Wistia_r\", annot_kws={\"size\": 15},annot=True,linewidths=0.5, fmt='g')\n",
    "plt.title(\"Confusion_matrix\")\n",
    "plt.xlabel(\"Predicted_class\")\n",
    "plt.ylabel(\"Real class\")\n",
    "plt.savefig(\"Ada.png\")\n",
    "plt.show()\n",
    "print('_________________________________________________________________________________')\n",
    "metrics.plot_roc_curve(ada, X_test, y_test)\n",
    "plt.savefig(\"AdaBoost.png\")\n"
   ]
  },
  {
   "cell_type": "markdown",
   "id": "39744a2c",
   "metadata": {},
   "source": [
    "<a id='ML Classifier'></a>\n",
    "## ML Classifier"
   ]
  },
  {
   "cell_type": "code",
   "execution_count": 93,
   "id": "1214154e",
   "metadata": {},
   "outputs": [
    {
     "name": "stdout",
     "output_type": "stream",
     "text": [
      "0.8357037763609613\n",
      "0.7881429816913688\n",
      "0.7879686137750654\n",
      "Training Report\n",
      "              precision    recall  f1-score   support\n",
      "\n",
      "           0       0.86      0.80      0.83      9174\n",
      "           1       0.81      0.87      0.84      9177\n",
      "\n",
      "    accuracy                           0.84     18351\n",
      "   macro avg       0.84      0.84      0.84     18351\n",
      "weighted avg       0.84      0.84      0.84     18351\n",
      "\n",
      "\n",
      "\n",
      "\n",
      "\n",
      "Testing Report\n",
      "              precision    recall  f1-score   support\n",
      "\n",
      "           0       0.81      0.75      0.78      2882\n",
      "           1       0.77      0.83      0.79      2853\n",
      "\n",
      "    accuracy                           0.79      5735\n",
      "   macro avg       0.79      0.79      0.79      5735\n",
      "weighted avg       0.79      0.79      0.79      5735\n",
      "\n"
     ]
    },
    {
     "data": {
      "image/png": "[encoded data removed]",
      "text/plain": [
       "<Figure size 432x288 with 2 Axes>"
      ]
     },
     "metadata": {},
     "output_type": "display_data"
    },
    {
     "name": "stdout",
     "output_type": "stream",
     "text": [
      "_________________________________________________________________________________\n"
     ]
    },
    {
     "data": {
      "image/png": "[encoded data removed]",
      "text/plain": [
       "<Figure size 432x288 with 1 Axes>"
      ]
     },
     "metadata": {},
     "output_type": "display_data"
    }
   ],
   "source": [
    "from sklearn.neural_network import MLPClassifier\n",
    "\n",
    "ml = MLPClassifier(hidden_layer_sizes=(100,50,20),random_state=123)\n",
    "ml.fit(X_train,y_train)\n",
    "mlpre = ml.predict(X_test)\n",
    "mlpre2 = ml.predict(X_train)\n",
    "\n",
    "print(ml.score(X_train , y_train))\n",
    "print(ml.score(X_val , y_val))\n",
    "print (ml.score(X_test , y_test))\n",
    "\n",
    "print(\"Training Report\")\n",
    "print(classification_report(y_train,mlpre2))\n",
    "print(\"\\n\")\n",
    "print(\"\\n\")\n",
    "print(\"Testing Report\")\n",
    "print(classification_report(y_test,mlpre))\n",
    "\n",
    "\n",
    "cnf_matrix = confusion_matrix(y_test, mlpre)\n",
    "sns.heatmap(cnf_matrix,cmap=\"Wistia_r\", annot_kws={\"size\": 15},annot=True,linewidths=0.5, fmt='g')\n",
    "plt.title(\"Confusion_matrix\")\n",
    "plt.xlabel(\"Predicted_class\")\n",
    "plt.ylabel(\"Real class\")\n",
    "plt.savefig(\"ML.png\")\n",
    "plt.show()\n",
    "print('_________________________________________________________________________________')\n",
    "metrics.plot_roc_curve(ada, X_test, y_test)\n",
    "plt.savefig(\"ML.png\")\n"
   ]
  },
  {
   "cell_type": "code",
   "execution_count": 94,
   "id": "88a65186",
   "metadata": {},
   "outputs": [],
   "source": [
    "from sklearn.feature_extraction.text import CountVectorizer"
   ]
  },
  {
   "cell_type": "code",
   "execution_count": null,
   "id": "ed1b2b13",
   "metadata": {},
   "outputs": [],
   "source": [
    "models_list = [lr_model,\n",
    "               knn,\n",
    "               DT,\n",
    "               forest_cv,\n",
    "               XGB,\n",
    "               pipeline,\n",
    "               gb,\n",
    "               ada,\n",
    "               ml,\n",
    "              ]\n",
    "\n",
    "models = []\n",
    "accuracies_tr = []\n",
    "accuracies_va = []\n",
    "accuracies_te = []\n",
    "precisions = []\n",
    "recalls = []\n",
    "roc_scores = []\n",
    "f1_scores = []\n",
    "for model in models_list:\n",
    "    if(model == models_list[-1]):\n",
    "        count_vectorizer = CountVectorizer(ngram_range=(1, 2),  max_df = 0.6)\n",
    "        X = df2.drop(columns='target')\n",
    "        y = df2['target']\n",
    "        #X, y = weather.drop('PRECIP_TYPE',axis=1), weather['PRECIP_TYPE']\n",
    "        X_train, X_test, y_train, y_test = train_test_split(X, y, test_size=0.01, random_state=1)\n",
    "        X_train, X_val, y_train, y_val = train_test_split(X_train, y_train, test_size=0.01, random_state=1)\n",
    "    sm = SMOTE(random_state=123)\n",
    "    X_train_smote, y_train_smote = sm.fit_resample(X_train, y_train)\n",
    "    pd.value_counts(y_train_smote)\n",
    "    accuracy1 = model.score(X_train_smote, y_train_smote)  #get accuracy\n",
    "    accuracy2 = model.score(X_val, y_val)  #get accuracy\n",
    "    accuracy3 = model.score(X_test, y_test)  #get accuracy\n",
    "    y_pred = model.predict(X_val) #get predictions\n",
    "    model_name = type(model).__name__\n",
    "    print(\"Accuracy for train(\"+ model_name + \"): \", accuracy1.round(4)) #display accuracy\n",
    "    print(\"Accuracy for validation(\"+ model_name + \"): \", accuracy2.round(4)) #display accuracy\n",
    "    print(\"Accuracy for Test(\"+ model_name + \"): \", accuracy3.round(4)) #display accuracy\n",
    "    print(\"F1 score(\"+ model_name + \"): \", f1_score(y_val,y_pred).round(4)) #display F1\n",
    "    print(\"Precision(\"+ model_name + \"): \", precision_score(y_val,y_pred).round(4)) #display precision\n",
    "    print(\"Recall(\"+ model_name + \"): \",recall_score(y_val,y_pred).round(4)) #display recall\n",
    "    print(\"ROC Score(\"+ model_name + \"): \",roc_auc_score(y_val,y_pred).round(4)) #display recall\n",
    "    print(\"\\n\")\n",
    "    print('_________________________________________________________________________________')\n",
    "    print(\"\\n\")\n",
    "    models.append(model_name)\n",
    "    accuracies_tr.append(accuracy1.round(4))\n",
    "    accuracies_va.append(accuracy2.round(4))\n",
    "    accuracies_te.append(accuracy3.round(4))\n",
    "    f1_scores.append(f1_score(y_val,y_pred).round(4))\n",
    "    precisions.append(precision_score(y_val,y_pred).round(4))\n",
    "    recalls.append(recall_score(y_val,y_pred).round(4))\n",
    "    roc_scores.append(roc_auc_score(y_val,y_pred).round(4))\n"
   ]
  },
  {
   "cell_type": "code",
   "execution_count": null,
   "id": "5298b484",
   "metadata": {},
   "outputs": [],
   "source": [
    "results = pd.DataFrame({\"Model\" : models, \"Accuracy for train\" : accuracies_tr,\n",
    "                        \"Accuracy for validation\" : accuracies_va,\"Accuracy for test\" : accuracies_te,\"F1\" : f1_scores, \"Precision\" : precisions, \"Recall\" : recalls, 'ROC Score' :roc_scores})\n",
    "results"
   ]
  },
  {
   "cell_type": "code",
   "execution_count": null,
   "id": "370e5c60",
   "metadata": {},
   "outputs": [],
   "source": [
    "results.plot(kind = 'bar',figsize=(20,10))\n",
    "plt.title(\"Comparison of Scores of the Models\")\n",
    "plt.ylabel(\"Models\")\n",
    "plt.ylim(0.30, 1.0)\n",
    "plt.xlabel(\"ROC score\")\n",
    "plt.show();"
   ]
  },
  {
   "cell_type": "code",
   "execution_count": null,
   "id": "610f8d13",
   "metadata": {},
   "outputs": [],
   "source": [
    "plt.figure(figsize = (10,10))\n",
    "x = results\n",
    "x=x.sort_values(by=['F1'])\n",
    "\n",
    "x[\"F1\"].plot(kind = 'barh')\n",
    "plt.title(\"Compare f1 Score of the Models\")\n",
    "plt.ylabel(\"Models\")\n",
    "plt.xlim(0.50, 1.0)\n",
    "plt.xlabel(\"F1 Score\")\n",
    "plt.savefig(\"abc.png\",transparent=True)\n",
    "\n",
    "plt.savefig(\"abc.png\") "
   ]
  },
  {
   "cell_type": "markdown",
   "id": "318b5b3e",
   "metadata": {},
   "source": [
    "## ROC Curve"
   ]
  },
  {
   "cell_type": "code",
   "execution_count": 97,
   "id": "853945cb",
   "metadata": {},
   "outputs": [
    {
     "ename": "AttributeError",
     "evalue": "predict_proba is not available when  probability=False",
     "output_type": "error",
     "traceback": [
      "\u001b[0;31m---------------------------------------------------------------------------\u001b[0m",
      "\u001b[0;31mAttributeError\u001b[0m                            Traceback (most recent call last)",
      "\u001b[0;32m<ipython-input-97-9d564f625ddc>\u001b[0m in \u001b[0;36m<module>\u001b[0;34m\u001b[0m\n\u001b[1;32m     13\u001b[0m \u001b[0;31m#xg_probs = XGB.predict_proba(X_val)[:, 1]\u001b[0m\u001b[0;34m\u001b[0m\u001b[0;34m\u001b[0m\u001b[0;34m\u001b[0m\u001b[0m\n\u001b[1;32m     14\u001b[0m \u001b[0;31m# GB\u001b[0m\u001b[0;34m\u001b[0m\u001b[0;34m\u001b[0m\u001b[0;34m\u001b[0m\u001b[0m\n\u001b[0;32m---> 15\u001b[0;31m \u001b[0mGb_probs\u001b[0m \u001b[0;34m=\u001b[0m \u001b[0mpipeline\u001b[0m\u001b[0;34m.\u001b[0m\u001b[0mpredict_proba\u001b[0m\u001b[0;34m(\u001b[0m\u001b[0mX_val\u001b[0m\u001b[0;34m)\u001b[0m\u001b[0;34m[\u001b[0m\u001b[0;34m:\u001b[0m\u001b[0;34m,\u001b[0m \u001b[0;36m1\u001b[0m\u001b[0;34m]\u001b[0m\u001b[0;34m\u001b[0m\u001b[0;34m\u001b[0m\u001b[0m\n\u001b[0m\u001b[1;32m     16\u001b[0m \u001b[0;31m#\u001b[0m\u001b[0;34m\u001b[0m\u001b[0;34m\u001b[0m\u001b[0;34m\u001b[0m\u001b[0m\n\u001b[1;32m     17\u001b[0m \u001b[0mgb_probs\u001b[0m \u001b[0;34m=\u001b[0m \u001b[0mgb\u001b[0m\u001b[0;34m.\u001b[0m\u001b[0mpredict_proba\u001b[0m\u001b[0;34m(\u001b[0m\u001b[0mX_val\u001b[0m\u001b[0;34m)\u001b[0m\u001b[0;34m[\u001b[0m\u001b[0;34m:\u001b[0m\u001b[0;34m,\u001b[0m \u001b[0;36m1\u001b[0m\u001b[0;34m]\u001b[0m\u001b[0;34m\u001b[0m\u001b[0;34m\u001b[0m\u001b[0m\n",
      "\u001b[0;32m~/opt/anaconda3/lib/python3.8/site-packages/sklearn/utils/metaestimators.py\u001b[0m in \u001b[0;36m__get__\u001b[0;34m(self, obj, type)\u001b[0m\n\u001b[1;32m    112\u001b[0m                     \u001b[0;32mcontinue\u001b[0m\u001b[0;34m\u001b[0m\u001b[0;34m\u001b[0m\u001b[0m\n\u001b[1;32m    113\u001b[0m                 \u001b[0;32melse\u001b[0m\u001b[0;34m:\u001b[0m\u001b[0;34m\u001b[0m\u001b[0;34m\u001b[0m\u001b[0m\n\u001b[0;32m--> 114\u001b[0;31m                     \u001b[0mgetattr\u001b[0m\u001b[0;34m(\u001b[0m\u001b[0mdelegate\u001b[0m\u001b[0;34m,\u001b[0m \u001b[0mself\u001b[0m\u001b[0;34m.\u001b[0m\u001b[0mattribute_name\u001b[0m\u001b[0;34m)\u001b[0m\u001b[0;34m\u001b[0m\u001b[0;34m\u001b[0m\u001b[0m\n\u001b[0m\u001b[1;32m    115\u001b[0m                     \u001b[0;32mbreak\u001b[0m\u001b[0;34m\u001b[0m\u001b[0;34m\u001b[0m\u001b[0m\n\u001b[1;32m    116\u001b[0m             \u001b[0;32melse\u001b[0m\u001b[0;34m:\u001b[0m\u001b[0;34m\u001b[0m\u001b[0;34m\u001b[0m\u001b[0m\n",
      "\u001b[0;32m~/opt/anaconda3/lib/python3.8/site-packages/sklearn/svm/_base.py\u001b[0m in \u001b[0;36mpredict_proba\u001b[0;34m(self)\u001b[0m\n\u001b[1;32m    664\u001b[0m         \u001b[0mdatasets\u001b[0m\u001b[0;34m.\u001b[0m\u001b[0;34m\u001b[0m\u001b[0;34m\u001b[0m\u001b[0m\n\u001b[1;32m    665\u001b[0m         \"\"\"\n\u001b[0;32m--> 666\u001b[0;31m         \u001b[0mself\u001b[0m\u001b[0;34m.\u001b[0m\u001b[0m_check_proba\u001b[0m\u001b[0;34m(\u001b[0m\u001b[0;34m)\u001b[0m\u001b[0;34m\u001b[0m\u001b[0;34m\u001b[0m\u001b[0m\n\u001b[0m\u001b[1;32m    667\u001b[0m         \u001b[0;32mreturn\u001b[0m \u001b[0mself\u001b[0m\u001b[0;34m.\u001b[0m\u001b[0m_predict_proba\u001b[0m\u001b[0;34m\u001b[0m\u001b[0;34m\u001b[0m\u001b[0m\n\u001b[1;32m    668\u001b[0m \u001b[0;34m\u001b[0m\u001b[0m\n",
      "\u001b[0;32m~/opt/anaconda3/lib/python3.8/site-packages/sklearn/svm/_base.py\u001b[0m in \u001b[0;36m_check_proba\u001b[0;34m(self)\u001b[0m\n\u001b[1;32m    631\u001b[0m     \u001b[0;32mdef\u001b[0m \u001b[0m_check_proba\u001b[0m\u001b[0;34m(\u001b[0m\u001b[0mself\u001b[0m\u001b[0;34m)\u001b[0m\u001b[0;34m:\u001b[0m\u001b[0;34m\u001b[0m\u001b[0;34m\u001b[0m\u001b[0m\n\u001b[1;32m    632\u001b[0m         \u001b[0;32mif\u001b[0m \u001b[0;32mnot\u001b[0m \u001b[0mself\u001b[0m\u001b[0;34m.\u001b[0m\u001b[0mprobability\u001b[0m\u001b[0;34m:\u001b[0m\u001b[0;34m\u001b[0m\u001b[0;34m\u001b[0m\u001b[0m\n\u001b[0;32m--> 633\u001b[0;31m             raise AttributeError(\"predict_proba is not available when \"\n\u001b[0m\u001b[1;32m    634\u001b[0m                                  \" probability=False\")\n\u001b[1;32m    635\u001b[0m         \u001b[0;32mif\u001b[0m \u001b[0mself\u001b[0m\u001b[0;34m.\u001b[0m\u001b[0m_impl\u001b[0m \u001b[0;32mnot\u001b[0m \u001b[0;32min\u001b[0m \u001b[0;34m(\u001b[0m\u001b[0;34m'c_svc'\u001b[0m\u001b[0;34m,\u001b[0m \u001b[0;34m'nu_svc'\u001b[0m\u001b[0;34m)\u001b[0m\u001b[0;34m:\u001b[0m\u001b[0;34m\u001b[0m\u001b[0;34m\u001b[0m\u001b[0m\n",
      "\u001b[0;31mAttributeError\u001b[0m: predict_proba is not available when  probability=False"
     ]
    },
    {
     "data": {
      "image/png": "[encoded data removed]",
      "text/plain": [
       "<Figure size 720x576 with 1 Axes>"
      ]
     },
     "metadata": {},
     "output_type": "display_data"
    }
   ],
   "source": [
    "ig, ax = plt.subplots(figsize=(10,8))\n",
    "# KNN\n",
    "knn_probs = knn.predict_proba(X_val)[:, 1]\n",
    "# LR\n",
    "lr_probs = lr_model.predict_proba(X_val)[:, 1]\n",
    "# svm\n",
    "#svm_probs = svm.predict_proba(X_test)[:, 1]\n",
    "# tree\n",
    "dtree_probs = DT.predict_proba(X_val)[:, 1]\n",
    "# RF\n",
    "rf_probs = forest_cv.predict_proba(X_val)[:, 1]\n",
    "# Adaboosting\n",
    "#xg_probs = XGB.predict_proba(X_val)[:, 1]\n",
    "# GB\n",
    "Gb_probs = pipeline.predict_proba(X_val)[:, 1]\n",
    "#\n",
    "gb_probs = gb.predict_proba(X_val)[:, 1]\n",
    "\n",
    "ada_probs = ada.predict_proba(X_val)[:, 1]\n",
    "ml_probs = ml.predict_proba(X_val)[:, 1]\n",
    "#svm_probs = svm.predict_proba(X_test,probability=True)[:, 1]\n",
    "\n",
    "# plot baseline roc curve\n",
    "plt.plot([0, 1], [0, 1], linestyle='--', label='Baseline')\n",
    "# calculate roc curve for model\n",
    "fpr1, tpr1, _ = roc_curve(y_val, knn_probs)\n",
    "fpr2, tpr2, _ = roc_curve(y_val, lr_probs )\n",
    "fpr3, tpr3, _ = roc_curve(y_val, dtree_probs)\n",
    "fpr4, tpr4, _ = roc_curve(y_val, rf_probs )\n",
    "#fpr5, tpr5, _ = roc_curve(y_val, xg_probs)\n",
    "fpr6, tpr6, _ = roc_curve(y_val, Gb_probs)\n",
    "fpr7, tpr7, _ = roc_curve(y_val, gb_probs)\n",
    "fpr8, tpr8, _ = roc_curve(y_val, ada_probs)\n",
    "fpr9, tpr9, _ = roc_curve(y_val, ml_probs)\n",
    "#fpr7, tpr7, _ = roc_curve(y_test, svm_probs)\n",
    "auc1 = round(100*(roc_auc_score(y_val, knn_probs)), 3)\n",
    "auc2 = round(100*(roc_auc_score(y_val,lr_probs)), 3)\n",
    "auc3 = round(100*(roc_auc_score(y_val,dtree_probs)), 3)\n",
    "auc4 = round(100*(roc_auc_score(y_val, rf_probs)), 3)\n",
    "#auc5 = round(100*(roc_auc_score(y_val, xg_probs)), 3)\n",
    "auc6 = round(100*(roc_auc_score(y_val, Gb_probs)), 3)\n",
    "\n",
    "auc7 = round(100*(roc_auc_score(y_val, gb_probs)), 3)\n",
    "auc8 = round(100*(roc_auc_score(y_val, ada_probs)), 3)\n",
    "auc9 = round(100*(roc_auc_score(y_val, ml_probs)), 3)\n",
    "#auc7 = round(100*(roc_auc_score(y_test, svm_probs)), 3)\n",
    "\n",
    "# plot model roc curve\n",
    "plt.plot(fpr1, tpr1, linestyle='-', label=f'KNN, AUC: {auc1}')\n",
    "plt.plot(fpr2, tpr2, linestyle='-', label=f'Logistic Regression, AUC: {auc2}')\n",
    "plt.plot(fpr3, tpr3, linestyle='-', label=f'Decision Tree, AUC: {auc3}')\n",
    "plt.plot(fpr4, tpr4, linestyle='-', label=f'Random Forest, AUC: {auc4}')\n",
    "#plt.plot(fpr5, tpr5, linestyle='-', label=f'XGBoost , AUC: {auc5}')\n",
    "plt.plot(fpr6, tpr6, linestyle='-', label=f'SVC, AUC: {auc6}')\n",
    "plt.plot(fpr7, tpr7, linestyle='-', label=f'GradientBoostingClassifier, AUC: {auc7}')\n",
    "plt.plot(fpr8, tpr8, linestyle='-', label=f'AdaBoostClassifier, AUC: {auc8}')\n",
    "plt.plot(fpr9, tpr9, linestyle='-', label=f'ML Classifier, AUC: {auc9}')\n",
    "\n",
    "#plt.plot(fpr7, tpr7, linestyle='-', label=f'SVM, AUC: {auc7}')\n",
    "\n",
    "# axis labels\n",
    "plt.xlabel('False Positive Rate')\n",
    "plt.ylabel('True Positive Rate')\n",
    "# show the legend\n",
    "plt.legend()\n",
    "# show the plot\n",
    "plt.savefig(\"ROC_Curve.png\")\n",
    "plt.show()"
   ]
  },
  {
   "cell_type": "code",
   "execution_count": null,
   "id": "48f2b430",
   "metadata": {},
   "outputs": [],
   "source": [
    "#!pip install flask-ngrok"
   ]
  },
  {
   "cell_type": "code",
   "execution_count": null,
   "id": "5e2147e7",
   "metadata": {},
   "outputs": [],
   "source": []
  },
  {
   "cell_type": "markdown",
   "id": "6cacb787",
   "metadata": {},
   "source": [
    "<a id='conclusions'></a>\n",
    "## Conclusions\n",
    "\n",
    ">#### After doing 9 ML algorithms we notate that ( XGBOOST        model) is the best model based on the f1 score it was better than another models."
   ]
  }
 ],
 "metadata": {
  "kernelspec": {
   "display_name": "Python 3",
   "language": "python",
   "name": "python3"
  },
  "language_info": {
   "codemirror_mode": {
    "name": "ipython",
    "version": 3
   },
   "file_extension": ".py",
   "mimetype": "text/x-python",
   "name": "python",
   "nbconvert_exporter": "python",
   "pygments_lexer": "ipython3",
   "version": "3.8.8"
  }
 },
 "nbformat": 4,
 "nbformat_minor": 5
}
